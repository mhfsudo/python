{
 "cells": [
  {
   "cell_type": "markdown",
   "metadata": {},
   "source": [
    "# Semesterarbeit Analysis mit Python Teil 4\n",
    "\n",
    "## Einleitung: Newton-Verfahren\n",
    "\n",
    "Newton hat ein Verfahren entwickelt um Nullstellen einer stetig differenzierbaren Funktion näherungsweise zu bestimmen.\n",
    "Diese werde ich implementieren und testen, sowie die Konvergenzgeschwindigkeiten untersuchen.\n",
    "\n",
    "## Theoretische Beschreibung des Lösungsansatzes\n",
    "\n",
    "### Aufgabe 1 Das Verfahren\n",
    "\n",
    "Grundlegend wird beim Newton-Verfahren zur Bestimmung von Nullstellen (1) ausgehend\n",
    " von einem Startwert $x_{0}$ folgendermassen iteriert:\n",
    "\n",
    "$$ x_{n+1} = x_{n} - \\frac{f(x_{n})}{f'(x_{n})} $$\n",
    "\n",
    "\n",
    "Nun muss uns bewusst sein, dass das Newtonverfahren lokal konvergent ist. Dies bedeutet, dass der Startwert für die\n",
    " Approximation, genügend nahe an der gesuchten Nullstelle sein muss, um zu funktionieren. Zum Beispiel ist es\n",
    "  offensichtlich an einem Polynom n-ten Grades mit bis zu n Nullstellen ersichtlich. Ist der Startwert zu weit von der\n",
    "   gesuchten Nullstelle entfernt, konvergiert das Verfahren zu einer der anderen Nullstellen. Darüber hinaus gibt es\n",
    "    Fälle, welche bei zu weit entferntem Startwert divergieren oder oszillieren.\n",
    "\n",
    "Folglich ist das Verfahren nicht geeignet, um Nullstellen ins Blaue hinaus zu suchen. Damit dies ersichtlicher wird,\n",
    " plote ich die Kurven, um eine Vorstellung der Kurven und ihren Nullstellen zu erhalten.\n",
    "\n",
    "### Aufgabe 2 Die Funktion\n",
    "\n",
    "Die Anzahl Iterationsschritte ist bei der Umsetzung auf 10 festgesetzt. Die Ableitung (3) der Funktion f halte ich\n",
    " bewusst aus der For-Schleife heraus und leite sie vorher ab. Somit bleibt die Funktion performant und es wird nicht jedes\n",
    "  mal unnötig dieselbe Ableitung berechnen. Mit der Methode .diff ist das Ableiten dank der Sympy library sehr leicht.\n",
    "\n",
    "Aus praktischen Gründen erstellen ich auch gleich eine Funktion solve_n(f, x0, n) mit einem Parameter für die Anzahl Iterationen."
   ]
  },
  {
   "cell_type": "code",
   "execution_count": 1,
   "metadata": {},
   "outputs": [],
   "source": [
    "from sympy import *\n",
    "\n",
    "x = symbols('x')\n",
    "\n",
    "#The Newton Methode implemented\n",
    "\n",
    "def solve(f, x0):\n",
    "        \n",
    "    #Initialise\n",
    "    \n",
    "    #Define 10 iterations\n",
    "    n=10\n",
    "    #Derivative of f\n",
    "    f_diff = f.diff(x)\n",
    "    \n",
    "    print(f\"x0 = {x0}\")\n",
    "    \n",
    "    #The implemented formula\n",
    "    for i in range(n):\n",
    "            \n",
    "        x_np1 = x0 - f.subs(x, x0) / f_diff.subs(x, x0)\n",
    "        print(f\"x{i+1} = {N(x_np1)}\")\n",
    "        x0 = x_np1\n",
    "        \n",
    "    return \"Done\" \n",
    "\n",
    "#The Newton Methode with variable amount of iterations n\n",
    "def solve_n(f, x0, n):\n",
    "        \n",
    "    #Initialise\n",
    "    \n",
    "    #Derivative of f\n",
    "    f_diff = f.diff(x)\n",
    "    \n",
    "    print(f\"x0 = {x0}\")\n",
    "    \n",
    "    #The implemented formula\n",
    "    for i in range(n):\n",
    "            \n",
    "        x_np1 = x0 - f.subs(x, x0) / f_diff.subs(x, x0)\n",
    "        print(f\"x{i+1} = {N(x_np1)}\")\n",
    "        x0 = x_np1\n",
    "        \n",
    "    return \"Done\" "
   ]
  },
  {
   "cell_type": "markdown",
   "metadata": {},
   "source": [
    "### Aufgabe 3 Test\n",
    "\n",
    "Ich untersuche die Funktionen $x²-4$, $ln(x)$ und $sin(x)$ mit verschiedenen Startwerten.\n",
    "\n",
    "#### $x^2-4$ :"
   ]
  },
  {
   "cell_type": "code",
   "execution_count": 2,
   "metadata": {},
   "outputs": [
    {
     "data": {
      "text/plain": [
       "<Figure size 640x480 with 1 Axes>"
      ]
     },
     "metadata": {},
     "output_type": "display_data"
    }
   ],
   "source": [
    "#Import libraries\n",
    "import numpy as np\n",
    "import matplotlib.pyplot as plt\n",
    "\n",
    "#Define x-Axis. numpy.linspace(start, stop, number of samples)\n",
    "x1 = np.linspace(-4,4, 100)\n",
    "\n",
    "#Define Graphs\n",
    "y1 = x1**2-4\n",
    "\n",
    "#assign plot\n",
    "ax = plt.gca()\n",
    "\n",
    "#Adjust axes\n",
    "# Make upper and right axis invisible\n",
    "ax.spines['top'].set_color('none')\n",
    "ax.spines['right'].set_color('none')\n",
    "#move lower axis to y=0 :\n",
    "ax.xaxis.set_ticks_position('bottom')\n",
    "ax.spines['bottom'].set_position(('data',0))\n",
    "#move left axis to y=0 x == 0:\n",
    "ax.yaxis.set_ticks_position('left')\n",
    "ax.spines['left'].set_position(('data',0))\n",
    "\n",
    "\n",
    "plt.plot(x1, y1, label = 'x²-4')\n",
    "plt.legend()\n",
    "\n",
    "ax.xaxis.set_label_coords( 1, 0.2)\n",
    "ax.yaxis.set_label_coords( 0.48, 1.05)\n",
    "plt.xlabel('x')\n",
    "plt.ylabel('y')\n",
    "\n",
    "\n",
    "#Bring Graph to the fore front\n",
    "plt.show()"
   ]
  },
  {
   "cell_type": "code",
   "execution_count": 3,
   "metadata": {},
   "outputs": [
    {
     "name": "stdout",
     "output_type": "stream",
     "text": [
      "x0 = 1\n",
      "x1 = 2.50000000000000\n",
      "x2 = 2.05000000000000\n",
      "x3 = 2.00060975609756\n",
      "x4 = 2.00000009292229\n",
      "x5 = 2.00000000000000\n",
      "x6 = 2.00000000000000\n",
      "x7 = 2.00000000000000\n",
      "x8 = 2.00000000000000\n",
      "x9 = 2.00000000000000\n",
      "x10 = 2.00000000000000\n",
      "Done\n"
     ]
    }
   ],
   "source": [
    "f1 = x**2 -4\n",
    "print(solve(f1, 1))"
   ]
  },
  {
   "cell_type": "code",
   "execution_count": 4,
   "metadata": {},
   "outputs": [
    {
     "name": "stdout",
     "output_type": "stream",
     "text": [
      "x0 = 0.02\n",
      "x1 = 100.010000000000\n",
      "x2 = 50.0249980002000\n",
      "x3 = 25.0524790116932\n",
      "x4 = 12.6060719247887\n",
      "x5 = 6.46168966609624\n",
      "x6 = 3.54036139966595\n",
      "x7 = 2.33509477899696\n",
      "x8 = 2.02404367307079\n",
      "x9 = 2.00014280774235\n",
      "x10 = 2.00000000509815\n",
      "Done\n"
     ]
    }
   ],
   "source": [
    "print(solve(f1, 0.02))"
   ]
  },
  {
   "cell_type": "code",
   "execution_count": 5,
   "metadata": {
    "scrolled": true
   },
   "outputs": [
    {
     "name": "stdout",
     "output_type": "stream",
     "text": [
      "x0 = 20\n",
      "x1 = 10.1000000000000\n",
      "x2 = 5.24801980198020\n",
      "x3 = 3.00510602399736\n",
      "x4 = 2.16808693460538\n",
      "x5 = 2.00651570219212\n",
      "x6 = 2.00001057912854\n",
      "x7 = 2.00000000002798\n",
      "x8 = 2.00000000000000\n",
      "x9 = 2.00000000000000\n",
      "x10 = 2.00000000000000\n",
      "Done\n"
     ]
    }
   ],
   "source": [
    "print(solve(f1,20))"
   ]
  },
  {
   "cell_type": "code",
   "execution_count": 6,
   "metadata": {},
   "outputs": [
    {
     "name": "stdout",
     "output_type": "stream",
     "text": [
      "x0 = -4\n",
      "x1 = -2.50000000000000\n",
      "x2 = -2.05000000000000\n",
      "x3 = -2.00060975609756\n",
      "x4 = -2.00000009292229\n",
      "x5 = -2.00000000000000\n",
      "x6 = -2.00000000000000\n",
      "x7 = -2.00000000000000\n",
      "x8 = -2.00000000000000\n",
      "x9 = -2.00000000000000\n",
      "x10 = -2.00000000000000\n",
      "Done\n"
     ]
    }
   ],
   "source": [
    "print(solve(f1,-4))"
   ]
  },
  {
   "cell_type": "markdown",
   "metadata": {},
   "source": [
    "#### $ln(x)$ :"
   ]
  },
  {
   "cell_type": "code",
   "execution_count": 7,
   "metadata": {},
   "outputs": [
    {
     "data": {
      "image/png": "[encoded data removed]",
      "text/plain": [
       "<Figure size 432x288 with 1 Axes>"
      ]
     },
     "metadata": {},
     "output_type": "display_data"
    }
   ],
   "source": [
    "#Import libraries\n",
    "import numpy as np\n",
    "import matplotlib.pyplot as plt\n",
    "\n",
    "#Define x-Axis. numpy.linspace(start, stop, number of samples)\n",
    "x1 = np.linspace(0.01 , 5, 100)\n",
    "\n",
    "#Define Graphs\n",
    "y1 = np.log(x1)\n",
    "\n",
    "#assign plot\n",
    "ax = plt.gca()\n",
    "\n",
    "#Adjust axes\n",
    "# Make upper and right axis invisible\n",
    "ax.spines['top'].set_color('none')\n",
    "ax.spines['right'].set_color('none')\n",
    "#move lower axis to y=0 :\n",
    "ax.xaxis.set_ticks_position('bottom')\n",
    "ax.spines['bottom'].set_position(('data',0))\n",
    "#move left axis to y=0 x == 0:\n",
    "ax.yaxis.set_ticks_position('left')\n",
    "ax.spines['left'].set_position(('data',0))\n",
    "\n",
    "plt.plot(x1, y1, label = 'ln(x)')\n",
    "plt.legend(loc=10)\n",
    "\n",
    "ax.xaxis.set_label_coords( 1, 0.8)\n",
    "ax.yaxis.set_label_coords( 0, 1.05)\n",
    "plt.xlabel('x')\n",
    "plt.ylabel('y')\n",
    "\n",
    "\n",
    "#Bring Graph to the fore front\n",
    "plt.show()"
   ]
  },
  {
   "cell_type": "code",
   "execution_count": 8,
   "metadata": {},
   "outputs": [
    {
     "name": "stdout",
     "output_type": "stream",
     "text": [
      "x0 = 2.22\n",
      "x1 = 0.449534025137102\n",
      "x2 = 0.808956137441998\n",
      "x3 = 0.980463398658913\n",
      "x4 = 0.999807905535545\n",
      "x5 = 0.999999981548677\n",
      "x6 = 1.00000000000000\n",
      "x7 = 1.00000000000000\n",
      "x8 = 1.00000000000000\n",
      "x9 = 1.00000000000000\n",
      "x10 = 1.00000000000000\n",
      "Done\n"
     ]
    }
   ],
   "source": [
    "f2 = ln(x)\n",
    "print(solve(f2, 2.22))"
   ]
  },
  {
   "cell_type": "code",
   "execution_count": 9,
   "metadata": {},
   "outputs": [
    {
     "name": "stdout",
     "output_type": "stream",
     "text": [
      "x0 = 0.01\n",
      "x1 = 0.0560517018598809\n",
      "x2 = 0.217563602708806\n",
      "x3 = 0.549405543411256\n",
      "x4 = 0.878454640902389\n",
      "x5 = 0.992294460775344\n",
      "x6 = 0.999970235784316\n",
      "x7 = 0.999999999557041\n",
      "x8 = 1.00000000000000\n",
      "x9 = 1.00000000000000\n",
      "x10 = 1.00000000000000\n",
      "Done\n"
     ]
    }
   ],
   "source": [
    "print(solve(f2, 0.01))"
   ]
  },
  {
   "cell_type": "code",
   "execution_count": 10,
   "metadata": {},
   "outputs": [
    {
     "name": "stdout",
     "output_type": "stream",
     "text": [
      "x0 = 20.1\n",
      "x1 = -40.2144682828071\n",
      "x2 = 108.346899739778 + 126.337478125287*I\n",
      "x3 = -336.912721467891 - 613.212853146908*I\n",
      "x4 = 3141.38172841521 + 2705.21992434874*I\n",
      "x5 = -21102.5177985273 - 22062.0863330642*I\n",
      "x6 = 248303.764244419 + 156508.339841418*I\n",
      "Done\n"
     ]
    }
   ],
   "source": [
    "print(solve_n(f2, 20.1, 6))"
   ]
  },
  {
   "cell_type": "markdown",
   "metadata": {},
   "source": [
    "#### $sin(x)$ :"
   ]
  },
  {
   "cell_type": "code",
   "execution_count": 11,
   "metadata": {},
   "outputs": [
    {
     "data": {
      "image/png": "[encoded data removed]",
      "text/plain": [
       "<Figure size 432x288 with 1 Axes>"
      ]
     },
     "metadata": {},
     "output_type": "display_data"
    }
   ],
   "source": [
    "#Import libraries\n",
    "import numpy as np\n",
    "import matplotlib.pyplot as plt\n",
    "\n",
    "#Define x-Axis. numpy.linspace(start, stop, number of samples)\n",
    "x1 = np.linspace(-3.2 * np.pi, 2 * np.pi, 1000)\n",
    "\n",
    "#Define Graphs\n",
    "y1 = np.sin( x1 )\n",
    "\n",
    "#assign plot\n",
    "ax = plt.gca()\n",
    "\n",
    "#Adjust axes\n",
    "# Make upper and right axis invisible\n",
    "ax.spines['top'].set_color('none')\n",
    "ax.spines['right'].set_color('none')\n",
    "#move lower axis to y=0 :\n",
    "ax.xaxis.set_ticks_position('bottom')\n",
    "ax.spines['bottom'].set_position(('data',0))\n",
    "#move left axis to y=0 x == 0:\n",
    "ax.yaxis.set_ticks_position('left')\n",
    "ax.spines['left'].set_position(('data',0))\n",
    "\n",
    "plt.plot(x1, y1, label = 'sin(x)')\n",
    "plt.legend(loc=1)\n",
    "\n",
    "ax.xaxis.set_label_coords( 1, 0.5)\n",
    "ax.yaxis.set_label_coords( 0.48, 1.05)\n",
    "plt.xlabel('x')\n",
    "plt.ylabel('y')\n",
    "\n",
    "\n",
    "#Bring Graph to the fore front\n",
    "plt.show()"
   ]
  },
  {
   "cell_type": "code",
   "execution_count": 12,
   "metadata": {},
   "outputs": [
    {
     "name": "stdout",
     "output_type": "stream",
     "text": [
      "x0 = 0.1\n",
      "x1 = -0.000334672085450544\n",
      "x2 = 1.24950280157299E-11\n",
      "x3 = 0\n",
      "x4 = 0\n",
      "x5 = 0\n",
      "x6 = 0\n",
      "x7 = 0\n",
      "x8 = 0\n",
      "x9 = 0\n",
      "x10 = 0\n",
      "Done\n"
     ]
    }
   ],
   "source": [
    "f3 = sin(x)\n",
    "print(solve(f3, 0.1))"
   ]
  },
  {
   "cell_type": "code",
   "execution_count": 13,
   "metadata": {},
   "outputs": [
    {
     "name": "stdout",
     "output_type": "stream",
     "text": [
      "x0 = 0.8\n",
      "x1 = -0.229638557050364\n",
      "x2 = 0.00412357916974798\n",
      "x3 = -2.33724753561509E-8\n",
      "x4 = 3.30872245021211E-24\n",
      "x5 = 0\n",
      "x6 = 0\n",
      "x7 = 0\n",
      "x8 = 0\n",
      "x9 = 0\n",
      "x10 = 0\n",
      "Done\n"
     ]
    }
   ],
   "source": [
    "\n",
    "print(solve(f3, 0.8))"
   ]
  },
  {
   "cell_type": "code",
   "execution_count": 14,
   "metadata": {},
   "outputs": [
    {
     "name": "stdout",
     "output_type": "stream",
     "text": [
      "x0 = 1.45\n",
      "x1 = -6.78809275296560\n",
      "x2 = -6.23540102724491\n",
      "x3 = -6.28322170963890\n",
      "x4 = -6.28318530717957\n",
      "x5 = -6.28318530717959\n",
      "x6 = -6.28318530717959\n",
      "x7 = -6.28318530717959\n",
      "Done\n"
     ]
    }
   ],
   "source": [
    "\n",
    "print(solve_n(f3, 1.45, 7))\n"
   ]
  },
  {
   "cell_type": "markdown",
   "metadata": {},
   "source": [
    "### Aufgabe 4 Diskussion Konvergenz Geschwindigkeit\n",
    "\n",
    "Die Funktion $x²-2$ hat zwei Nullstellen -2 und 2. Da der Scheitel bei x = 0 ist, konvergieren alle negativen Werte\n",
    " zu der Nullstelle -2 und alle positiven Werte zu der Nullstelle 2. Interessant ist, dass der Startwert 0.02 langsamer\n",
    "  konvergiert als der Startwert 20. Der Fehler scheint sich ungefähr zu halbieren bevor die erste Ziffer korrekt ist.\n",
    "   Danach sind nach etwa 4 Iterationen alle 14 Nachkommastellen korrekt.\n",
    "\n",
    "$ln(x)$ hat eine Nullstelle bei x = 1. Die sehr kleinen Zahlen, wie z.B. 0.1, konvergieren langsamer gegen die Nullstelle \n",
    "als weiter von der Nullstelle entfernte positive Zahlen, wie z.B. 2.22. Es kommt jedoch einen Punkt, bei welchem es\n",
    " sich anders verhält. Sobald der Startwert so gross ist, dass die erste Iteration einen negativen Wert\n",
    "  erreicht, ergeben sich nur noch imaginäre Lösungen, welche divergieren. So sehen wir das Problem mit nicht stetig\n",
    "   differenzierbaren Funktionen.\n",
    "\n",
    "Die Funktion $sin(x)$ konvergiert schon nach 5 Durchgängen soweit, dass numerisch kein Fehler mehr festzustellen ist.\n",
    " Falls der Startwert näher an der Nullstelle liegt, sogar noch schneller. Ist der Startwert aber zu nahe am Scheitel, wie mit\n",
    "  dem Startwert 1.45, so finden wir die weiter entfernte Nullstelle $-2*Pi$\n",
    "\n",
    "Wie eingangs erwähnt bestätigt sich das Problem mit der lokalen Konvergenz. Das Verfahren ist effektiv besser, wenn der\n",
    " Startwert schon näher an der gesuchten Nullstelle liegt. Beziehungsweise funktioniert das Verfahren nicht, bei zu weit \n",
    " entfernten Startwerten oder findet eine andere Nullstelle als die nächste nebenan liegende.\n",
    "\n",
    "Die Rechenzeit scheint für den Aufruf solve(sin(x), 1.45) für jede weitere Iteration exponentiell mehr Rechenzeit zu \n",
    "benötigen. Hier könnte man auch ein Abbruchkriterium einfügen z.B. wenn sich 14 Stellen nach dem Komma nichts mehr verändert.\n",
    "\n",
    "Das gleiche Verhalten mit exponentiell ansteigender Rechenzeit, war auch beim Divergieren in der komplexen\n",
    " Ebene, mit solve(ln(x), 20.1)) festzustellen.\n"
   ]
  },
  {
   "cell_type": "markdown",
   "metadata": {},
   "source": [
    "### Ausblick\n",
    "\n",
    "Das Newtonverfahren hat seine Grenzen und lässt sich noch optimieren, wie dies beim Vereinfachten-Newtonverfahren\n",
    " oder beim Inexakten-Newtonverfahren getan wird. Beide Verfahren versuchen auf Kosten der Konvergenzgeschwindigkeit\n",
    "  die Rechenzeit zu minimieren, durch weniger oder ungenaueres rechnen der Ableitung. (2)\n",
    "\n",
    "## Literaturverzeichnis\n",
    "Da das Newton-Verfahren zur Bestimmung von Nullstellen von Funktionen kein kontrovers Diskutiertes Thema ist\n",
    " erlaube ich mir Wikipedia zu zitieren.\n",
    "\n",
    "(1) Wikipedia, Newtonverfahren, Stand 26.05.2020\n",
    "https://de.wikipedia.org/wiki/Newtonverfahren\n",
    "\n",
    "(2)\n",
    "Wikipedia, Newtonverfahren, Abs. Varianten des Newtonverfahrens, Stand 26.05.2020\n",
    "https://de.wikipedia.org/wiki/Newtonverfahren\n",
    "\n",
    "(3)\n",
    "Konkrete Mathematik (nicht nur) für Informatiker Edmund Weitz\n"
   ]
  }
 ],
 "metadata": {
  "kernelspec": {
   "display_name": "Python 3",
   "language": "python",
   "name": "python3"
  },
  "language_info": {
   "codemirror_mode": {
    "name": "ipython",
    "version": 3
   },
   "file_extension": ".py",
   "mimetype": "text/x-python",
   "name": "python",
   "nbconvert_exporter": "python",
   "pygments_lexer": "ipython3",
   "version": "3.7.4"
  },
  "pycharm": {
   "stem_cell": {
    "cell_type": "raw",
    "source": [],
    "metadata": {
     "collapsed": false
    }
   }
  }
 },
 "nbformat": 4,
 "nbformat_minor": 2
}