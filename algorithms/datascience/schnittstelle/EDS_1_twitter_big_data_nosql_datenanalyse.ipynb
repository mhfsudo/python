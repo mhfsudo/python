{
 "cells": [
  {
   "cell_type": "markdown",
   "source": [
    "# Schnittstellen von Twitter"
   ],
   "metadata": {
    "collapsed": false
   }
  },
  {
   "cell_type": "markdown",
   "source": [
    "Semesterarbeit 1\n",
    "\n",
    "## EDS-Einführung in Data Science\n",
    "\n",
    "Klasse: BSc INF-P-IN010, BE1, HS20/21<br>\n",
    "Dozent: Dr. Tim vor der Brück<br>\n",
    "Autor:  Sandro Bürki, Michael Friderich<br>\n",
    "Datum:  05.09.2020<br>"
   ],
   "metadata": {
    "collapsed": false
   }
  },
  {
   "cell_type": "markdown",
   "source": [
    "## Abstract / Executive Summary\n",
    "\n",
    "In diesem ersten Teil der Semesterarbeit für das Modul EDS - Einführung in Data Science werden vier Fragen zum\n",
    "Nachrichtendienst Twitter beantwortet. Dabei stehen die Kommunikationsschnittstelle API, die Systemarchitektur und die\n",
    "Datenmengen im Vordergrund. Zuerst wird der Zugriff auf die API-Schnittstelle mittels Python Code vorgeführt.\n",
    "Dabei werden auch die Einschränkungen des Zugriffs auf die API-Schnittstelle aufgezeigt. Die Benutzeranfragen werden\n",
    "durch die Systemarchitektur abgearbeitet, wobei mehrere Load Balancer die Anfragen verteilen. Dabei geschieht\n",
    "entweder ein Fan-Out bei Benutzern mit wenigen Followern oder ein Speichern des Tweets bei Benutzern mit sehr vielen\n",
    "Followern. Um diese Datenmengen bewältigen zu können werden für die spezifischen Use-Cases relationale sowie NoSQL\n",
    "Datenbanken eingesetzt."
   ],
   "metadata": {
    "collapsed": false,
    "pycharm": {
     "name": "#%% md\n"
    }
   }
  },
  {
   "cell_type": "markdown",
   "source": [
    "## Einleitung\n",
    "\n",
    "In diesem ersten Teil der Semesterarbeit im Modul EDS - Einführung in Data Science, werden die folgenden Fragen zur\n",
    "Kommunikationsschnittstelle API, der Systemarchitektur und der Datenmenge beantwortet.\n",
    "1. Wie kann man auf einen Twitter Stream zugreifen - zeigen Sie, wie Sie Ihre eigenen Topics abrufen.\n",
    "2. Welche Einschränkungen hat das Twitter API?\n",
    "3. Wie werden die Anfragen in der Systemlandschaft von Twitter abgearbeiteten (nur auf Ebene Systemarchitektur)\n",
    "4. Welchen Stellenwert haben NoSQL Datenbanken bei der Durchführung dieser Aufgabe?"
   ],
   "metadata": {
    "collapsed": false,
    "pycharm": {
     "name": "#%% md\n"
    }
   }
  },
  {
   "cell_type": "markdown",
   "source": [
    "## Materialien und Methoden\n",
    "\n",
    "Einige der Fragestellungen dieser Arbeit sind nicht direkt wissenschaftlicher Natur, weshalb sich die Methodik dieser\n",
    "Arbeit von einem wissenschaftlichen Artikel unterscheiden wird. Generell dienen das Lehrbuch Mining the Social Web\n",
    "(Russell/Klassen 2019), sowie die offizielle Twitter-Dokumentation (Twitter (o. J.): Twitter API v1.1) als primäre\n",
    "Informationsquellen.\n",
    "\n",
    "EIn Twitter Stream ermöglicht den Zugriff auf Tweets in Echtzeit. Diese Streams können z. B. nach Stichwörtern, Sprache,\n",
    "und Ort gefiltert werden. Mithilfe des Codes in Listing 1 wird eine Suchabfrage abgesetzt, die uns aktuelle Tweets für\n",
    "das Stichwort “Open Source” anzeigt.\n",
    "\n",
    "Um Zugriff auf die Twitter API zu erhalten, wird ein Developer Account benötigt. Mithilfe dessen lassen sich die\n",
    "Zugangsdaten für eine automatisierte, programmierbare Datenabfrage generieren. Diese Schlüssel können im oben\n",
    "aufgeführten Python Code an den angegebenen Platzhaltestellen ​ <key> eingesetzt werden. Nach dem erfolgreichen\n",
    "Login wird der/die gewünschte/n Suchbegriffe abgefragt, die aktuellen Tweets abgerufen und ausgegeben. Die Abfrage\n",
    "wird weitergeführt bis Sie manuell abgebrochen oder durch andere Verbindungsunterbrüche beendet wird. Hierbei müsste\n",
    "das Programm und somit die Connection erneut gestartet werden.\n",
    "\n",
    "Um die Fragestellung bezüglich dem Stellenwert von NoSQL Datenbanken beantworten zu können, müssen die Anforderungen\n",
    "von Twitter mit den Unterschieden sowie den Vor- und Nachteilen von NoSQL gegenüber klassischen, relationalen Datenbanken\n",
    "verglichen werden."
   ],
   "metadata": {
    "collapsed": false,
    "pycharm": {
     "name": "#%% md\n"
    }
   }
  },
  {
   "cell_type": "code",
   "execution_count": 12,
   "outputs": [
    {
     "name": "stdout",
     "output_type": "stream",
     "text": [
      "<twitter.api.Twitter object at 0x7f6b814627c0>\n"
     ]
    }
   ],
   "source": [
    "import twitter\n",
    "import Twitter_credentials\n",
    "\n",
    "def oauth_login():\n",
    "    auth = twitter.oauth.OAuth(Twitter_credentials.OAUTH_TOKEN,\n",
    "                               Twitter_credentials.OAUTH_TOKEN_SECRET,\n",
    "                               Twitter_credentials.CONSUMER_KEY,\n",
    "                               Twitter_credentials.CONSUMER_SECRET)\n",
    "\n",
    "    twitter_api = twitter.Twitter(auth=auth)\n",
    "    return twitter_api\n",
    "\n",
    "twitter_api = oauth_login()\n",
    "print(twitter_api)"
   ],
   "metadata": {
    "collapsed": false,
    "pycharm": {
     "name": "#%%\n"
    }
   }
  },
  {
   "cell_type": "code",
   "execution_count": 13,
   "outputs": [
    {
     "name": "stderr",
     "output_type": "stream",
     "text": [
      "Filtering the public timeline for track=Open Source\n"
     ]
    }
   ],
   "source": [
    "# Finding topics of interest by using the filtering capabilities it offers.\n",
    "# Query terms\n",
    "\n",
    "import sys\n",
    "\n",
    "q = 'Open Source' # Comma-separated list of terms\n",
    "\n",
    "print('Filtering the public timeline for track={0}'.format(q), file=sys.stderr)\n",
    "sys.stderr.flush()"
   ],
   "metadata": {
    "collapsed": false,
    "pycharm": {
     "name": "#%%\n"
    }
   }
  },
  {
   "cell_type": "code",
   "execution_count": 14,
   "outputs": [],
   "source": [
    "# Returns an instance of twitter.Twitter\n",
    "twitter_api = oauth_login();"
   ],
   "metadata": {
    "collapsed": false,
    "pycharm": {
     "name": "#%%\n"
    }
   }
  },
  {
   "cell_type": "code",
   "execution_count": 15,
   "outputs": [],
   "source": [
    "# Reference the self.auth parameter\n",
    "twitter_stream = twitter.TwitterStream(auth=twitter_api.auth);"
   ],
   "metadata": {
    "collapsed": false,
    "pycharm": {
     "name": "#%%\n"
    }
   }
  },
  {
   "cell_type": "code",
   "execution_count": 16,
   "outputs": [
    {
     "ename": "TwitterHTTPError",
     "evalue": "Twitter sent status 420 for URL: 1.1/statuses/filter.json using parameters: (oauth_consumer_key=hhff9myUkucabaPajxuveAGHL&oauth_nonce=13288381118041823390&oauth_signature_method=HMAC-SHA1&oauth_timestamp=1610136281&oauth_token=1294354836662693888-atG4VxUdebbTSfCOQ8vcbB3f6owo5Y&oauth_version=1.0&track=Open%20Source&oauth_signature=PDklvEs61o1pQqs9Y39ro%2BN6Dko%3D)\ndetails: Exceeded connection limit for user\r\n",
     "output_type": "error",
     "traceback": [
      "\u001B[0;31m---------------------------------------------------------------------------\u001B[0m",
      "\u001B[0;31mHTTPError\u001B[0m                                 Traceback (most recent call last)",
      "\u001B[0;32m/usr/local/lib/python3.8/dist-packages/twitter/stream.py\u001B[0m in \u001B[0;36mhandle_stream_response\u001B[0;34m(req, uri, arg_data, block, timeout, heartbeat_timeout)\u001B[0m\n\u001B[1;32m    210\u001B[0m     \u001B[0;32mtry\u001B[0m\u001B[0;34m:\u001B[0m\u001B[0;34m\u001B[0m\u001B[0;34m\u001B[0m\u001B[0m\n\u001B[0;32m--> 211\u001B[0;31m         \u001B[0mhandle\u001B[0m \u001B[0;34m=\u001B[0m \u001B[0murllib_request\u001B[0m\u001B[0;34m.\u001B[0m\u001B[0murlopen\u001B[0m\u001B[0;34m(\u001B[0m\u001B[0mreq\u001B[0m\u001B[0;34m,\u001B[0m\u001B[0;34m)\u001B[0m\u001B[0;34m\u001B[0m\u001B[0;34m\u001B[0m\u001B[0m\n\u001B[0m\u001B[1;32m    212\u001B[0m     \u001B[0;32mexcept\u001B[0m \u001B[0murllib_error\u001B[0m\u001B[0;34m.\u001B[0m\u001B[0mHTTPError\u001B[0m \u001B[0;32mas\u001B[0m \u001B[0me\u001B[0m\u001B[0;34m:\u001B[0m\u001B[0;34m\u001B[0m\u001B[0;34m\u001B[0m\u001B[0m\n",
      "\u001B[0;32m/usr/lib/python3.8/urllib/request.py\u001B[0m in \u001B[0;36murlopen\u001B[0;34m(url, data, timeout, cafile, capath, cadefault, context)\u001B[0m\n\u001B[1;32m    221\u001B[0m         \u001B[0mopener\u001B[0m \u001B[0;34m=\u001B[0m \u001B[0m_opener\u001B[0m\u001B[0;34m\u001B[0m\u001B[0;34m\u001B[0m\u001B[0m\n\u001B[0;32m--> 222\u001B[0;31m     \u001B[0;32mreturn\u001B[0m \u001B[0mopener\u001B[0m\u001B[0;34m.\u001B[0m\u001B[0mopen\u001B[0m\u001B[0;34m(\u001B[0m\u001B[0murl\u001B[0m\u001B[0;34m,\u001B[0m \u001B[0mdata\u001B[0m\u001B[0;34m,\u001B[0m \u001B[0mtimeout\u001B[0m\u001B[0;34m)\u001B[0m\u001B[0;34m\u001B[0m\u001B[0;34m\u001B[0m\u001B[0m\n\u001B[0m\u001B[1;32m    223\u001B[0m \u001B[0;34m\u001B[0m\u001B[0m\n",
      "\u001B[0;32m/usr/lib/python3.8/urllib/request.py\u001B[0m in \u001B[0;36mopen\u001B[0;34m(self, fullurl, data, timeout)\u001B[0m\n\u001B[1;32m    530\u001B[0m             \u001B[0mmeth\u001B[0m \u001B[0;34m=\u001B[0m \u001B[0mgetattr\u001B[0m\u001B[0;34m(\u001B[0m\u001B[0mprocessor\u001B[0m\u001B[0;34m,\u001B[0m \u001B[0mmeth_name\u001B[0m\u001B[0;34m)\u001B[0m\u001B[0;34m\u001B[0m\u001B[0;34m\u001B[0m\u001B[0m\n\u001B[0;32m--> 531\u001B[0;31m             \u001B[0mresponse\u001B[0m \u001B[0;34m=\u001B[0m \u001B[0mmeth\u001B[0m\u001B[0;34m(\u001B[0m\u001B[0mreq\u001B[0m\u001B[0;34m,\u001B[0m \u001B[0mresponse\u001B[0m\u001B[0;34m)\u001B[0m\u001B[0;34m\u001B[0m\u001B[0;34m\u001B[0m\u001B[0m\n\u001B[0m\u001B[1;32m    532\u001B[0m \u001B[0;34m\u001B[0m\u001B[0m\n",
      "\u001B[0;32m/usr/lib/python3.8/urllib/request.py\u001B[0m in \u001B[0;36mhttp_response\u001B[0;34m(self, request, response)\u001B[0m\n\u001B[1;32m    639\u001B[0m         \u001B[0;32mif\u001B[0m \u001B[0;32mnot\u001B[0m \u001B[0;34m(\u001B[0m\u001B[0;36m200\u001B[0m \u001B[0;34m<=\u001B[0m \u001B[0mcode\u001B[0m \u001B[0;34m<\u001B[0m \u001B[0;36m300\u001B[0m\u001B[0;34m)\u001B[0m\u001B[0;34m:\u001B[0m\u001B[0;34m\u001B[0m\u001B[0;34m\u001B[0m\u001B[0m\n\u001B[0;32m--> 640\u001B[0;31m             response = self.parent.error(\n\u001B[0m\u001B[1;32m    641\u001B[0m                 'http', request, response, code, msg, hdrs)\n",
      "\u001B[0;32m/usr/lib/python3.8/urllib/request.py\u001B[0m in \u001B[0;36merror\u001B[0;34m(self, proto, *args)\u001B[0m\n\u001B[1;32m    568\u001B[0m             \u001B[0margs\u001B[0m \u001B[0;34m=\u001B[0m \u001B[0;34m(\u001B[0m\u001B[0mdict\u001B[0m\u001B[0;34m,\u001B[0m \u001B[0;34m'default'\u001B[0m\u001B[0;34m,\u001B[0m \u001B[0;34m'http_error_default'\u001B[0m\u001B[0;34m)\u001B[0m \u001B[0;34m+\u001B[0m \u001B[0morig_args\u001B[0m\u001B[0;34m\u001B[0m\u001B[0;34m\u001B[0m\u001B[0m\n\u001B[0;32m--> 569\u001B[0;31m             \u001B[0;32mreturn\u001B[0m \u001B[0mself\u001B[0m\u001B[0;34m.\u001B[0m\u001B[0m_call_chain\u001B[0m\u001B[0;34m(\u001B[0m\u001B[0;34m*\u001B[0m\u001B[0margs\u001B[0m\u001B[0;34m)\u001B[0m\u001B[0;34m\u001B[0m\u001B[0;34m\u001B[0m\u001B[0m\n\u001B[0m\u001B[1;32m    570\u001B[0m \u001B[0;34m\u001B[0m\u001B[0m\n",
      "\u001B[0;32m/usr/lib/python3.8/urllib/request.py\u001B[0m in \u001B[0;36m_call_chain\u001B[0;34m(self, chain, kind, meth_name, *args)\u001B[0m\n\u001B[1;32m    501\u001B[0m             \u001B[0mfunc\u001B[0m \u001B[0;34m=\u001B[0m \u001B[0mgetattr\u001B[0m\u001B[0;34m(\u001B[0m\u001B[0mhandler\u001B[0m\u001B[0;34m,\u001B[0m \u001B[0mmeth_name\u001B[0m\u001B[0;34m)\u001B[0m\u001B[0;34m\u001B[0m\u001B[0;34m\u001B[0m\u001B[0m\n\u001B[0;32m--> 502\u001B[0;31m             \u001B[0mresult\u001B[0m \u001B[0;34m=\u001B[0m \u001B[0mfunc\u001B[0m\u001B[0;34m(\u001B[0m\u001B[0;34m*\u001B[0m\u001B[0margs\u001B[0m\u001B[0;34m)\u001B[0m\u001B[0;34m\u001B[0m\u001B[0;34m\u001B[0m\u001B[0m\n\u001B[0m\u001B[1;32m    503\u001B[0m             \u001B[0;32mif\u001B[0m \u001B[0mresult\u001B[0m \u001B[0;32mis\u001B[0m \u001B[0;32mnot\u001B[0m \u001B[0;32mNone\u001B[0m\u001B[0;34m:\u001B[0m\u001B[0;34m\u001B[0m\u001B[0;34m\u001B[0m\u001B[0m\n",
      "\u001B[0;32m/usr/lib/python3.8/urllib/request.py\u001B[0m in \u001B[0;36mhttp_error_default\u001B[0;34m(self, req, fp, code, msg, hdrs)\u001B[0m\n\u001B[1;32m    648\u001B[0m     \u001B[0;32mdef\u001B[0m \u001B[0mhttp_error_default\u001B[0m\u001B[0;34m(\u001B[0m\u001B[0mself\u001B[0m\u001B[0;34m,\u001B[0m \u001B[0mreq\u001B[0m\u001B[0;34m,\u001B[0m \u001B[0mfp\u001B[0m\u001B[0;34m,\u001B[0m \u001B[0mcode\u001B[0m\u001B[0;34m,\u001B[0m \u001B[0mmsg\u001B[0m\u001B[0;34m,\u001B[0m \u001B[0mhdrs\u001B[0m\u001B[0;34m)\u001B[0m\u001B[0;34m:\u001B[0m\u001B[0;34m\u001B[0m\u001B[0;34m\u001B[0m\u001B[0m\n\u001B[0;32m--> 649\u001B[0;31m         \u001B[0;32mraise\u001B[0m \u001B[0mHTTPError\u001B[0m\u001B[0;34m(\u001B[0m\u001B[0mreq\u001B[0m\u001B[0;34m.\u001B[0m\u001B[0mfull_url\u001B[0m\u001B[0;34m,\u001B[0m \u001B[0mcode\u001B[0m\u001B[0;34m,\u001B[0m \u001B[0mmsg\u001B[0m\u001B[0;34m,\u001B[0m \u001B[0mhdrs\u001B[0m\u001B[0;34m,\u001B[0m \u001B[0mfp\u001B[0m\u001B[0;34m)\u001B[0m\u001B[0;34m\u001B[0m\u001B[0;34m\u001B[0m\u001B[0m\n\u001B[0m\u001B[1;32m    650\u001B[0m \u001B[0;34m\u001B[0m\u001B[0m\n",
      "\u001B[0;31mHTTPError\u001B[0m: HTTP Error 420: Enhance Your Calm",
      "\nDuring handling of the above exception, another exception occurred:\n",
      "\u001B[0;31mTwitterHTTPError\u001B[0m                          Traceback (most recent call last)",
      "\u001B[0;32m<ipython-input-16-18a37049afc1>\u001B[0m in \u001B[0;36m<module>\u001B[0;34m\u001B[0m\n\u001B[1;32m      1\u001B[0m \u001B[0;31m# See https://developer.twitter.com/en/docs/tutorials/consuming-streaming-data\u001B[0m\u001B[0;34m\u001B[0m\u001B[0;34m\u001B[0m\u001B[0;34m\u001B[0m\u001B[0m\n\u001B[0;32m----> 2\u001B[0;31m \u001B[0mstreamm\u001B[0m \u001B[0;34m=\u001B[0m \u001B[0mtwitter_stream\u001B[0m\u001B[0;34m.\u001B[0m\u001B[0mstatuses\u001B[0m\u001B[0;34m.\u001B[0m\u001B[0mfilter\u001B[0m\u001B[0;34m(\u001B[0m\u001B[0mtrack\u001B[0m\u001B[0;34m=\u001B[0m\u001B[0mq\u001B[0m\u001B[0;34m)\u001B[0m\u001B[0;34m\u001B[0m\u001B[0;34m\u001B[0m\u001B[0m\n\u001B[0m\u001B[1;32m      3\u001B[0m \u001B[0;34m\u001B[0m\u001B[0m\n\u001B[1;32m      4\u001B[0m \u001B[0mprint\u001B[0m\u001B[0;34m(\u001B[0m\u001B[0mstreamm\u001B[0m\u001B[0;34m)\u001B[0m\u001B[0;34m\u001B[0m\u001B[0;34m\u001B[0m\u001B[0m\n\u001B[1;32m      5\u001B[0m \u001B[0;34m\u001B[0m\u001B[0m\n",
      "\u001B[0;32m/usr/local/lib/python3.8/dist-packages/twitter/api.py\u001B[0m in \u001B[0;36m__call__\u001B[0;34m(self, **kwargs)\u001B[0m\n\u001B[1;32m    332\u001B[0m             \u001B[0;32mreturn\u001B[0m \u001B[0mself\u001B[0m\u001B[0;34m.\u001B[0m\u001B[0m_handle_response_with_retry\u001B[0m\u001B[0;34m(\u001B[0m\u001B[0mreq\u001B[0m\u001B[0;34m,\u001B[0m \u001B[0muri\u001B[0m\u001B[0;34m,\u001B[0m \u001B[0marg_data\u001B[0m\u001B[0;34m,\u001B[0m \u001B[0m_timeout\u001B[0m\u001B[0;34m)\u001B[0m\u001B[0;34m\u001B[0m\u001B[0;34m\u001B[0m\u001B[0m\n\u001B[1;32m    333\u001B[0m         \u001B[0;32melse\u001B[0m\u001B[0;34m:\u001B[0m\u001B[0;34m\u001B[0m\u001B[0;34m\u001B[0m\u001B[0m\n\u001B[0;32m--> 334\u001B[0;31m             \u001B[0;32mreturn\u001B[0m \u001B[0mself\u001B[0m\u001B[0;34m.\u001B[0m\u001B[0m_handle_response\u001B[0m\u001B[0;34m(\u001B[0m\u001B[0mreq\u001B[0m\u001B[0;34m,\u001B[0m \u001B[0muri\u001B[0m\u001B[0;34m,\u001B[0m \u001B[0marg_data\u001B[0m\u001B[0;34m,\u001B[0m \u001B[0m_timeout\u001B[0m\u001B[0;34m)\u001B[0m\u001B[0;34m\u001B[0m\u001B[0;34m\u001B[0m\u001B[0m\n\u001B[0m\u001B[1;32m    335\u001B[0m \u001B[0;34m\u001B[0m\u001B[0m\n\u001B[1;32m    336\u001B[0m     \u001B[0;32mdef\u001B[0m \u001B[0m_handle_response\u001B[0m\u001B[0;34m(\u001B[0m\u001B[0mself\u001B[0m\u001B[0;34m,\u001B[0m \u001B[0mreq\u001B[0m\u001B[0;34m,\u001B[0m \u001B[0muri\u001B[0m\u001B[0;34m,\u001B[0m \u001B[0marg_data\u001B[0m\u001B[0;34m,\u001B[0m \u001B[0m_timeout\u001B[0m\u001B[0;34m=\u001B[0m\u001B[0;32mNone\u001B[0m\u001B[0;34m)\u001B[0m\u001B[0;34m:\u001B[0m\u001B[0;34m\u001B[0m\u001B[0;34m\u001B[0m\u001B[0m\n",
      "\u001B[0;32m/usr/local/lib/python3.8/dist-packages/twitter/stream.py\u001B[0m in \u001B[0;36m_handle_response\u001B[0;34m(self, req, uri, arg_data, _timeout)\u001B[0m\n\u001B[1;32m    284\u001B[0m         \u001B[0;32mclass\u001B[0m \u001B[0mTwitterStreamCall\u001B[0m\u001B[0;34m(\u001B[0m\u001B[0mTwitterCall\u001B[0m\u001B[0;34m)\u001B[0m\u001B[0;34m:\u001B[0m\u001B[0;34m\u001B[0m\u001B[0;34m\u001B[0m\u001B[0m\n\u001B[1;32m    285\u001B[0m             \u001B[0;32mdef\u001B[0m \u001B[0m_handle_response\u001B[0m\u001B[0;34m(\u001B[0m\u001B[0mself\u001B[0m\u001B[0;34m,\u001B[0m \u001B[0mreq\u001B[0m\u001B[0;34m,\u001B[0m \u001B[0muri\u001B[0m\u001B[0;34m,\u001B[0m \u001B[0marg_data\u001B[0m\u001B[0;34m,\u001B[0m \u001B[0m_timeout\u001B[0m\u001B[0;34m=\u001B[0m\u001B[0;32mNone\u001B[0m\u001B[0;34m)\u001B[0m\u001B[0;34m:\u001B[0m\u001B[0;34m\u001B[0m\u001B[0;34m\u001B[0m\u001B[0m\n\u001B[0;32m--> 286\u001B[0;31m                 return handle_stream_response(\n\u001B[0m\u001B[1;32m    287\u001B[0m                     \u001B[0mreq\u001B[0m\u001B[0;34m,\u001B[0m \u001B[0muri\u001B[0m\u001B[0;34m,\u001B[0m \u001B[0marg_data\u001B[0m\u001B[0;34m,\u001B[0m \u001B[0mblock\u001B[0m\u001B[0;34m,\u001B[0m\u001B[0;34m\u001B[0m\u001B[0;34m\u001B[0m\u001B[0m\n\u001B[1;32m    288\u001B[0m                     _timeout or timeout, heartbeat_timeout)\n",
      "\u001B[0;32m/usr/local/lib/python3.8/dist-packages/twitter/stream.py\u001B[0m in \u001B[0;36mhandle_stream_response\u001B[0;34m(req, uri, arg_data, block, timeout, heartbeat_timeout)\u001B[0m\n\u001B[1;32m    211\u001B[0m         \u001B[0mhandle\u001B[0m \u001B[0;34m=\u001B[0m \u001B[0murllib_request\u001B[0m\u001B[0;34m.\u001B[0m\u001B[0murlopen\u001B[0m\u001B[0;34m(\u001B[0m\u001B[0mreq\u001B[0m\u001B[0;34m,\u001B[0m\u001B[0;34m)\u001B[0m\u001B[0;34m\u001B[0m\u001B[0;34m\u001B[0m\u001B[0m\n\u001B[1;32m    212\u001B[0m     \u001B[0;32mexcept\u001B[0m \u001B[0murllib_error\u001B[0m\u001B[0;34m.\u001B[0m\u001B[0mHTTPError\u001B[0m \u001B[0;32mas\u001B[0m \u001B[0me\u001B[0m\u001B[0;34m:\u001B[0m\u001B[0;34m\u001B[0m\u001B[0;34m\u001B[0m\u001B[0m\n\u001B[0;32m--> 213\u001B[0;31m         \u001B[0;32mraise\u001B[0m \u001B[0mTwitterHTTPError\u001B[0m\u001B[0;34m(\u001B[0m\u001B[0me\u001B[0m\u001B[0;34m,\u001B[0m \u001B[0muri\u001B[0m\u001B[0;34m,\u001B[0m \u001B[0;34m'json'\u001B[0m\u001B[0;34m,\u001B[0m \u001B[0marg_data\u001B[0m\u001B[0;34m)\u001B[0m\u001B[0;34m\u001B[0m\u001B[0;34m\u001B[0m\u001B[0m\n\u001B[0m\u001B[1;32m    214\u001B[0m     \u001B[0;32mreturn\u001B[0m \u001B[0miter\u001B[0m\u001B[0;34m(\u001B[0m\u001B[0mTwitterJSONIter\u001B[0m\u001B[0;34m(\u001B[0m\u001B[0mhandle\u001B[0m\u001B[0;34m,\u001B[0m \u001B[0muri\u001B[0m\u001B[0;34m,\u001B[0m \u001B[0marg_data\u001B[0m\u001B[0;34m,\u001B[0m \u001B[0mblock\u001B[0m\u001B[0;34m,\u001B[0m \u001B[0mtimeout\u001B[0m\u001B[0;34m,\u001B[0m \u001B[0mheartbeat_timeout\u001B[0m\u001B[0;34m)\u001B[0m\u001B[0;34m)\u001B[0m\u001B[0;34m\u001B[0m\u001B[0;34m\u001B[0m\u001B[0m\n\u001B[1;32m    215\u001B[0m \u001B[0;34m\u001B[0m\u001B[0m\n",
      "\u001B[0;31mTwitterHTTPError\u001B[0m: Twitter sent status 420 for URL: 1.1/statuses/filter.json using parameters: (oauth_consumer_key=hhff9myUkucabaPajxuveAGHL&oauth_nonce=13288381118041823390&oauth_signature_method=HMAC-SHA1&oauth_timestamp=1610136281&oauth_token=1294354836662693888-atG4VxUdebbTSfCOQ8vcbB3f6owo5Y&oauth_version=1.0&track=Open%20Source&oauth_signature=PDklvEs61o1pQqs9Y39ro%2BN6Dko%3D)\ndetails: Exceeded connection limit for user\r\n"
     ]
    }
   ],
   "source": [
    "# See https://developer.twitter.com/en/docs/tutorials/consuming-streaming-data\n",
    "streamm = twitter_stream.statuses.filter(track=q)"
   ],
   "metadata": {
    "collapsed": false,
    "pycharm": {
     "name": "#%%\n"
    }
   }
  },
  {
   "cell_type": "code",
   "execution_count": 17,
   "outputs": [
    {
     "ename": "TypeError",
     "evalue": "'module' object is not iterable",
     "output_type": "error",
     "traceback": [
      "\u001B[0;31m---------------------------------------------------------------------------\u001B[0m",
      "\u001B[0;31mTypeError\u001B[0m                                 Traceback (most recent call last)",
      "\u001B[0;32m<ipython-input-17-54d9fbf35dda>\u001B[0m in \u001B[0;36m<module>\u001B[0;34m\u001B[0m\n\u001B[0;32m----> 1\u001B[0;31m \u001B[0;32mfor\u001B[0m \u001B[0mtweet\u001B[0m \u001B[0;32min\u001B[0m \u001B[0mtwitter\u001B[0m\u001B[0;34m.\u001B[0m\u001B[0mstream\u001B[0m\u001B[0;34m:\u001B[0m\u001B[0;34m\u001B[0m\u001B[0;34m\u001B[0m\u001B[0m\n\u001B[0m\u001B[1;32m      2\u001B[0m     \u001B[0mprint\u001B[0m\u001B[0;34m(\u001B[0m\u001B[0mtweet\u001B[0m\u001B[0;34m[\u001B[0m\u001B[0;34m'text'\u001B[0m\u001B[0;34m]\u001B[0m\u001B[0;34m)\u001B[0m\u001B[0;34m\u001B[0m\u001B[0;34m\u001B[0m\u001B[0m\n\u001B[1;32m      3\u001B[0m     \u001B[0msys\u001B[0m\u001B[0;34m.\u001B[0m\u001B[0mstdout\u001B[0m\u001B[0;34m.\u001B[0m\u001B[0mflush\u001B[0m\u001B[0;34m(\u001B[0m\u001B[0;34m)\u001B[0m\u001B[0;34m\u001B[0m\u001B[0;34m\u001B[0m\u001B[0m\n\u001B[1;32m      4\u001B[0m \u001B[0;34m\u001B[0m\u001B[0m\n\u001B[1;32m      5\u001B[0m \u001B[0;31m# Save to a database in a particular collection\u001B[0m\u001B[0;34m\u001B[0m\u001B[0;34m\u001B[0m\u001B[0;34m\u001B[0m\u001B[0m\n",
      "\u001B[0;31mTypeError\u001B[0m: 'module' object is not iterable"
     ]
    }
   ],
   "source": [
    "for tweet in twitter.stream:\n",
    "    print(tweet['text'])\n",
    "    sys.stdout.flush()\n",
    "\n",
    "# Save to a database in a particular collection"
   ],
   "metadata": {
    "collapsed": false,
    "pycharm": {
     "name": "#%%\n"
    }
   }
  },
  {
   "cell_type": "markdown",
   "source": [
    "## Ergebnisse / Findings / Resultate\n",
    "\n",
    "Mittels dem oben vorgestellten Python Code können Tweets anhand von Stichwörter abgefragt werden. Dadurch erhalten\n",
    "wir live dazu passende Tweets. Wir können nun den Suchbegriff verändern und sehen wie häufig neue Tweets erstellt\n",
    "werden. Bei prominenten Stichwörtern wie z. B. Justin Bieber und Donald Trump erhalten wir sehr viel neue Tweets bei\n",
    "weniger häufig genutzten Stichwörtern wie z. B. Open Source ist die Zeitspanne zwischen zwei Tweets deutlich grösser.\n",
    "\n",
    "Bei jeglichen Abfragen gelten die Twitter Nutzungsbedingungen für Entwickler (Twitter (o. J.): Developer Agreement and\n",
    "Policy). Unter anderem umfassen diese Off-Twitter Matching, Spamming und legale Vorgaben. Für eine optimale Nutzung des\n",
    "Dienstes in einer kommerziell tauglichen Applikation müsste eine Fehlerbehandlung für die Ratenlimits (Twitter (o. J.):\n",
    "Rate limits) implementiert werden, sodass der Grund für ein Fehlverhalten klar ersichtlich wird. Die Limits sind nach\n",
    "dem spezifischen Endpoint und nach Art der HTTP-Requests, genauer den GET- und POST-Methoden gegliedert. Die\n",
    "verschiedenen Endpoints unterscheiden sich im Zeitfenster und in der Anzahl Anfragen, welche in dieser Zeit pro\n",
    "Applikation getätigt werden können. Für die GET-Endpoints beträgt ein Zeitfenster stets 15 Minuten. Für POST-Endpoints\n",
    "unterscheidet sich dies ferner. Als Beispiel ist nachfolgend der POST-Endpoint favorites/create abgebildet:\n",
    "\n",
    "![Post-Endpoint](images/POST-Endpoint_example.png)\n",
    "\n",
    "Für alle weiteren Endpoints wird auf die offizielle Twitter Entwicklerdokumentation (Twitter (o. J.): Rate limits)\n",
    "verwiesen, da eine komplette Auflistung hier den Rahmen sprengen würde. Der aktuelle Stand der Limits seine eigene\n",
    "Applikation betreffend lässt sich über einen GET-Endpoint (Twitter (o. J.): GET application/rate_limit_status) abfragen.\n",
    "\n",
    "Eine Anfrage eines Client wird vom Load Balancer entgegengenommen. Es sind mehrere solcher Load Balancer vorhanden die\n",
    "sich in verschiedene Regionen aufteilen. Der Load Balancer sendet die Anfrage an ein REDIS Cluster. Dort wird nun ein\n",
    "sogenanntes Fan-out gemacht. Das bedeutet, die Anfrage wird in eine In-Memory Datenbank gespeichert und im Hintergrund\n",
    "werden alle betroffenen Home Timelines angepasst. Gleichzeitig wird parallel der Tweet abgespeichert, damit dieser auch\n",
    "über die Suchfunktion von Nicht-Followern gefunden wird. Bei Benutzern mit mehreren Millionen Followern ist dieses\n",
    "vorgehen jedoch nicht geeignet da das Anpassen von so vielen Home Timelines zu viel Zeit beanspruchen würde. Hier wird\n",
    "die Home Timeline erst beim Aufruf durch den Benutzer aktualisiert.\n",
    "\n",
    "![Twitter System Design](images/Twitter_System_Design.png)\n",
    "\n",
    "Damit Twitters Architektur diese riesige Menge an Daten effizient persistieren, analysieren und verarbeiten kann, muss\n",
    "im Endeffekt die Datenbank den Anforderungen gerecht werden. Im Folgenden werden einige Themen angeschnitten, um die\n",
    "Viabilität von NoSQL-Datenbanken einzuschätzen.\n",
    "\n",
    "### Flexible Skalierbarkeit\n",
    "\n",
    "Damit ein Unternehmen sich mit dem schnellen Lauf der Technologie agil weiterbewegen kann, ist Flexibilität von grosser\n",
    "Bedeutung. NoSQL-Datenbanken weisen diese Eigenschaft auf und sprechen somit dafür.\n",
    "\n",
    "### Grosse Datenmengen\n",
    "Twitter verfügt bereits über eine riesige Menge an Daten, welche permanent abgefragt, verändert und erweitert wird.\n",
    "Klassische Datenbankmodelle wachsen zwar langsam an diese Anforderungen heran, dennoch ist NoSQL klar die präferierte\n",
    "Lösung.\n",
    "\n",
    "### Analysierbarkeit\n",
    "\n",
    "Der primäre Nutzen von Twitter stellt die Analysierbarkeit der Daten dar. Dies ist jedoch nur bei einer passender\n",
    "Struktur möglich. Klassische Datenbanken erfüllen dieses Kriterium bereits seit ihrer Entstehung, wobei NoSQL dies\n",
    "nicht zwingend erzwingt. Bei einem unüberlegten Datenmodell und stetiger Umgestaltung kann hierdurch ein Wildwuchs\n",
    "entstehen, welcher die Untersuchung beeinträchtigt. Aus diesem Grund ist es von hoher Bedeutung auch im NoSQL eine gut\n",
    "durchdachte Struktur der Daten zu wählen."
   ],
   "metadata": {
    "collapsed": false,
    "pycharm": {
     "name": "#%% md\n"
    }
   }
  },
  {
   "cell_type": "markdown",
   "source": [
    "## Fazit / Konklusion / Schlussfolgerung / Diskussion\n",
    "\n",
    "Bei prominenten Stichwörtern sind die Abstände für neue Tweets sehr kurz. Dadurch lassen sich die riesigen Tweet-Mengen\n",
    "die Twitter pro Sekunde erhält erahnen und zu einem kleinen Teil sichtbar machen.\n",
    "\n",
    "Wir sehen, dass Twitter verschiedene Herausforderungen meistern muss, um mit den riesigen Anfrage-Mengen umgehen zu\n",
    "können. Die Speicherkapazität steht dabei nicht im Vordergrund, da die einzelnen Textnachrichten lediglich 280 Zeichen\n",
    "umfassen können. Hingegen sind die Abhängigkeiten zwischen Benutzern und Tweets wichtig, denn gerade bei Benutzern mit\n",
    "sehr vielen Followern müssen im Hintergrund viele Abhängigkeiten zu anderen Timelines angepasst werden. Vermutlich könnte\n",
    "dies mit klassischen, relationalen SQL-Datenbanken schlechter bewerkstelligt werden, als mit NoSQL-Datenbanken.\n",
    "Für den NoSQL-Ansatz muss jedoch eine einheitliche Datenstruktur unter den Dokumenten etabliert werden, um die\n",
    "Analysierbarkeit zu gewährleisten. Den effektiven Einsatz von NoSQL hängt zudem vom jeweiligen Gebiet ab. So werden\n",
    "gemäss einer Präsentation (vgl. Weil, Kevin (2010): NoSQL at Twitter) von Kevin Weil mehrere Datenbankmodelle\n",
    "gleichzeitig geführt. Zudem bedeutet eine Umstrukturierung immer eine Investition von Ressourcen, was nicht unbedingt\n",
    "risikofrei und ökonomisch sinnvoll sein muss."
   ],
   "metadata": {
    "collapsed": false,
    "pycharm": {
     "name": "#%% md\n"
    }
   }
  },
  {
   "cell_type": "markdown",
   "source": [
    "---\n",
    "## Gloassar\n",
    "\n",
    "#### API\n",
    "Application Programming Interface ist eine Programmierschnittstelle um die Kommunikation zwischen Diensten zu\n",
    "erlauben.\n",
    "\n",
    "#### Benutzer\n",
    "Bei Twitter können auch nicht reale Personen einen Account besitzen wie z.B.(Firmen, Imaginäre Personen, Bands)\n",
    "\n",
    "#### Follower\n",
    "Man kann anderen Nutzern folgen (follow) und erhält dadurch Ihre Tweets.\n",
    "\n",
    "#### NoSQL\n",
    "Eine Strukturform der Datenmodelle einer Datenbank in einer anderen Weise als die tabullare Charakteristik von\n",
    "klassischen, relationalen Datenbanken.\n",
    "\n",
    "#### Timelines\n",
    "Die ​ Home Timeline ist beinhaltet alle Tweets von Benutzern, denen man folgt.\n",
    "Die User TImeline​ , ist die eigene Benutzerspezifische Ansicht, die die eigens erstellten Tweets anzeigt.\n",
    "\n",
    "#### Tweet\n",
    "Mit einem Tweet ​ ist eine Kurznachricht gemeint, die maximal 140 Zeichen lang ist."
   ],
   "metadata": {
    "collapsed": false,
    "pycharm": {
     "name": "#%% md\n"
    }
   }
  },
  {
   "cell_type": "markdown",
   "source": [
    "---\n",
    "## Quellenverzeichnis\n",
    "\n",
    "### Literaturverzeichnis\n",
    "\n",
    "[1] L., Narendra (2018): System design for Twitter - Narendra L, in: ​ Medium ​ , [online]\n",
    "https://medium.com/@narengowda/system-design-for-twitter-e737284afc95 [05.09.2020].\n",
    "\n",
    "[2] Russell, Matthew A. / Mikhail Klassen (2019): Mining the Social Web: Data Mining Facebook, Twitter, LinkedIn, Instagram,\n",
    "GitHub, and More, 3. Aufl., Sebastopol, USA, California: O’Reilly Media.\n",
    "\n",
    "[3] Success in Tech (2017): System Design: How to design Twitter? Interview question at Facebook, Google, Microsoft,\n",
    "in: ​ YouTube , ​ [online] https://www.youtube.com/watch?v=KmAyPUv9gOY [05.09.2020].\n",
    "\n",
    "[4] Tech Dummies (2018): Twitter system design | twitter Software architecture | twitter interview questions,\n",
    "in: ​ YouTube , ​ [online] https://www.youtube.com/watch?v=wYk0xPP_P_8 [05.09.2020].\n",
    "\n",
    "[5] Twitter (o. J.): Developer Agreement and Policy – Twitter Developers, in: ​ Twitter Developer ​ , [online]\n",
    "https://developer.twitter.com/en/developer-terms/agreement-and-policy [05.09.2020a].\n",
    "\n",
    "[6] Twitter (o. J.): GET application/rate_limit_status, in: ​ Docs | Twitter Developer ​ , [online]\n",
    "https://developer.twitter.com/en/docs/twitter-api/v1/developer-utilities/rate-limit-sta tus/api-reference/get-application-rate_limit_status [05.09.2020b].\n",
    "\n",
    "[7] Twitter (o. J.): Rate limits, in: ​ Docs | Twitter Developer , ​ [online]\n",
    "https://developer.twitter.com/en/docs/twitter-api/v1/rate-limits [05.09.2020c].\n",
    "\n",
    "[8] Twitter (o. J.): Twitter API v1.1, in: Docs | Twitter Developer, [online]\n",
    "https://developer.twitter.com/en/docs/twitter-api/v1 [05.09.2020d].\n",
    "\n",
    "[9] Weil, Kevin (2010): NoSQL at Twitter, in: ​ InfoQ , ​ [online]\n",
    "https://www.infoq.com/presentations/NoSQL-at-Twitter/ [05.09.2020]."
   ],
   "metadata": {
    "collapsed": false,
    "pycharm": {
     "name": "#%% md\n"
    }
   }
  }
 ],
 "metadata": {
  "kernelspec": {
   "name": "pycharm-bcd54842",
   "language": "python",
   "display_name": "PyCharm (data-science)"
  },
  "language_info": {
   "codemirror_mode": {
    "name": "ipython",
    "version": 2
   },
   "file_extension": ".py",
   "mimetype": "text/x-python",
   "name": "python",
   "nbconvert_exporter": "python",
   "pygments_lexer": "ipython2",
   "version": "2.7.6"
  }
 },
 "nbformat": 4,
 "nbformat_minor": 0
}