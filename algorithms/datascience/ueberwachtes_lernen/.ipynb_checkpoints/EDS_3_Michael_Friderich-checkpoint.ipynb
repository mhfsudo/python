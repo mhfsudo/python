{
 "cells": [
  {
   "cell_type": "markdown",
   "metadata": {
    "collapsed": true,
    "pycharm": {
     "name": "#%% md\n"
    }
   },
   "source": [
    "# Erkennung von Ziffern"
   ]
  },
  {
   "cell_type": "markdown",
   "metadata": {},
   "source": [
    "Semesterarbeit 3\n",
    "\n",
    "## EDS-Einführung in Data Science\n",
    "\n",
    "Klasse: BSc INF-P-IN010, BE1, HS20/21<br>\n",
    "Dozent: Dr. Tim vor der Brück<br>\n",
    "Autor:  Michael Friderich<br>\n",
    "Datum:  07.11.2020<br>"
   ]
  },
  {
   "cell_type": "markdown",
   "metadata": {},
   "source": [
    "## Einleitung\n",
    "\n",
    "Im heutigen Zeitalter werden die künstliche Intelligenz und das Machnine Learning immer wichtiger. Da eer Mensch nicht\n",
    "in der Lage ist, die heutigen Datenflutten zu bewältigen, spielen Computer eine immer wichtigere Rolle in unserem Alltag.\n",
    "Um künstliches Wissen aus Erfahrungen zu generieren, wird versucht das menschliche Gehirn nachzustellen.\n",
    "Automatisch fahrende Autos, Text-, Bild-, Spracherkennung, Frühwarnsysteme, Optimierung um nur einige Beispiele zu nennen\n",
    "bei welchen künstliche neuronale Netzte eingesetzt werden. In dieser Thesis wird ein neuronales Netzwerk erstellt,\n",
    "trainiert und geprüft ob dies die persönliche Handschrift erkennen kann."
   ]
  },
  {
   "cell_type": "markdown",
   "metadata": {
    "pycharm": {
     "name": "#%% md\n"
    }
   },
   "source": [
    "## Neuronales Netz\n",
    "\n",
    "Wie der Name besagt, versteht man unter einem neuronalen Netzwerk eine beliebige Anzahl miteinander verbundener Neuronen.\n",
    "Dieser Begriff stammt aus den Neurowissenschaften und bezieht sich auf das menschliche Gehirn. In der Informatik wird\n",
    "versucht dessen Strukturen, als künstliches neuronales Netz zu modellieren. Dabei wird künstliches Wissen aus Erfahrung\n",
    "generiert. Das System lernt aus Beispielen und verallgemeinert diese nach Abschluss der Lernphase. Um möglichst Gute\n",
    "Ergebnisse zu erzielen sind auch möglichst Grosse Datenmengen erforderlich. <br>"
   ]
  },
  {
   "cell_type": "code",
   "execution_count": 2,
   "metadata": {
    "pycharm": {
     "name": "#%%\n"
    }
   },
   "outputs": [
    {
     "data": {
      "text/html": [
       "<img src=\"neuronal_network.png\" width=\"600px\" style=\"margin: auto\" />"
      ],
      "text/plain": [
       "<IPython.core.display.HTML object>"
      ]
     },
     "metadata": {},
     "output_type": "display_data"
    }
   ],
   "source": [
    "from IPython.display import HTML\n",
    "from IPython.core.display import display\n",
    "display(HTML('<img src=\"images/neuronal_network.png\" width=\"600px\" style=\"margin: auto\" />'))"
   ]
  },
  {
   "cell_type": "markdown",
   "metadata": {},
   "source": [
    "###### Abbildung 1 - Neuronales Netzwerk\n",
    "\n",
    "In einem neuronalen Netz werden Daten in die Input-Nodes geben und nach Berechnung an den Output-Nodes ausgegeben. Dabei\n",
    "sind die Daten abhängig vom zu lösenden Problem. Das Netz verfügt über einen oder mehrere Hidden-Layers. Diese bilden\n",
    "die Masse des künstlichen Gehirns und wirken auf die Ausgabe an den Output-Nodes.\n",
    "\n",
    "## Schriterkennung\n",
    "\n",
    "Einer der ersten Anwendungen für die Schritenerkennung wurde für die Post entwickelt. Um die Postsortierung zu\n",
    "automatisieren, wollte man die Postleizahlen erkennen können. Das neuronale Netzwerk wird dabei durch eine Vielzahl an\n",
    "Bildern trainiert, damit die verschiedenen Handschriten zuverlässig erkennt werden. <br>\n",
    "In diesem Beispiel werden wir ein Neuronales Netzwerk erstellen, dieses trainieren und aneschliessend mit der eigenen\n",
    "Hanschrift überprüfen. Die Trainingsdaten stammen dabei aus dem MINST-Datenbank welche 60'000 [2] Beispiele enthält."
   ]
  },
  {
   "cell_type": "code",
   "execution_count": 6,
   "metadata": {
    "pycharm": {
     "name": "#%%\n"
    }
   },
   "outputs": [
    {
     "ename": "SyntaxError",
     "evalue": "invalid syntax (<ipython-input-6-4be116067a57>, line 1)",
     "output_type": "error",
     "traceback": [
      "\u001b[0;36m  File \u001b[0;32m\"<ipython-input-6-4be116067a57>\"\u001b[0;36m, line \u001b[0;32m1\u001b[0m\n\u001b[0;31m    pip install opencv\u001b[0m\n\u001b[0m              ^\u001b[0m\n\u001b[0;31mSyntaxError\u001b[0m\u001b[0;31m:\u001b[0m invalid syntax\n"
     ]
    }
   ],
   "source": [
    "! pip install opencv\n",
    "\n",
    "#import cv2 as cv                # need to import own images\n",
    "#import numpy as np\n",
    "#import matplotlib.pyplot as plt\n",
    "#import tensorflow as tf         # need to create the neuronal Network"
   ]
  },
  {
   "cell_type": "markdown",
   "metadata": {
    "pycharm": {
     "name": "#%% md\n"
    }
   },
   "source": [
    "### Daten\n",
    "\n",
    "Die MINST-Datenbank enthält gelabelte Daten welche wir für das überwachte Lernen benötigen. Dabei stehen uns 60'000 [2]\n",
    "Bilder mit Ziffern zwischen 0-9 zur Verfügung. Mit den erhaltenen Daten bilden wir einen zufälligen Trainings- sowie\n",
    "einen Testdatensatz. Als nächstes normalisieren wrid die Bildpunkte der erhaltenen Bilderdaten zwischen 0 und 1."
   ]
  },
  {
   "cell_type": "code",
   "execution_count": null,
   "metadata": {
    "pycharm": {
     "name": "#%%\n"
    }
   },
   "outputs": [],
   "source": [
    "# load the mnist data and split into train and test\n",
    "mnist = tf.keras.datasets.mnist\n",
    "(x_train, y_train), (x_test, y_test) = mnist.load_data()\n",
    "\n",
    "x_train = tf.keras.utils.normalize(x_train, axis=1)\n",
    "x_test = tf.keras.utils.normalize(x_test, axis=1)"
   ]
  },
  {
   "cell_type": "markdown",
   "metadata": {
    "pycharm": {
     "name": "#%% md\n"
    }
   },
   "source": [
    "### Neuronales Netz erstellen\n",
    "\n",
    "Nun erstellen wir das neuronale Netzwerk mit 256 Hidden-Units. Zudem legen wir die Grösse der eigenen Ziffernbilder auf\n",
    "28*28 Pixel fest."
   ]
  },
  {
   "cell_type": "code",
   "execution_count": null,
   "metadata": {
    "pycharm": {
     "name": "#%%\n"
    }
   },
   "outputs": [],
   "source": [
    "# define the model\n",
    "model = tf.keras.models.Sequential()\n",
    "model.add(tf.keras.layers.Flatten(input_shape=(28, 28)))    # Input size of the images\n",
    "model.add(tf.keras.layers.Dense(units=256, activation=tf.nn.relu))\n",
    "model.add(tf.keras.layers.Dense(units=256, activation=tf.nn.relu))\n",
    "model.add(tf.keras.layers.Dense(units=10, activation=tf.nn.softmax))\n",
    "\n",
    "model.compile(optimizer='adam', loss='sparse_categorical_crossentropy', metrics=['accuracy'])"
   ]
  },
  {
   "cell_type": "markdown",
   "metadata": {},
   "source": [
    "### Neuronales Netz trainieren\n",
    "\n",
    "Nachdem das neuronale Netz erstellt wurde, trainieren wir dieses mit den Daten aus der MNIST-Datenbank. Dabei sehen wir\n",
    "das sich die Genauigkeit mit jedem Durchlauf verbessern. Unser neuronales Netz weisst ungefähr eine Genauigkeit von 97%\n",
    "auf, was für unser Netz ein akzeptabler Wert ist. Durch den \"epochs\" Wert kann festegelgt werden wie oft der Datensatz\n",
    "durchlaufen werden soll."
   ]
  },
  {
   "cell_type": "code",
   "execution_count": null,
   "metadata": {
    "pycharm": {
     "name": "#%%\n"
    }
   },
   "outputs": [],
   "source": [
    "# train the neuronal network\n",
    "model.fit(x_train, y_train, epochs=10)\n",
    "\n",
    "loss, accuracy = model.evaluate(x_test, y_test)\n",
    "print(accuracy * 100)\n",
    "print(loss)\n",
    "\n",
    "model.save('digits.model')"
   ]
  },
  {
   "cell_type": "markdown",
   "metadata": {},
   "source": [
    "### Neuronales Netz prüfen\n",
    "\n",
    "Nun da wir unser neuronales Netz trainiert haben, wollen wir dieses durch eigene Bilder überprüfen. Diese werden\n",
    "in schwarz/weiss Bilder umgewandelt um einen möglichst hohen Konstrast zu erhalten. Anschliessend werden diese\n",
    "dem trainierten neuralen Netz übergeben und wir erhalten eine Antwort mit der vermuteten Lösung."
   ]
  },
  {
   "cell_type": "code",
   "execution_count": 4,
   "metadata": {
    "pycharm": {
     "name": "#%%\n"
    }
   },
   "outputs": [
    {
     "ename": "NameError",
     "evalue": "name 'cv' is not defined",
     "output_type": "error",
     "traceback": [
      "\u001b[0;31m---------------------------------------------------------------------------\u001b[0m",
      "\u001b[0;31mNameError\u001b[0m                                 Traceback (most recent call last)",
      "\u001b[0;32m<ipython-input-4-ebd0b3124dc3>\u001b[0m in \u001b[0;36m<module>\u001b[0;34m\u001b[0m\n\u001b[1;32m      1\u001b[0m \u001b[0;32mfor\u001b[0m \u001b[0mx\u001b[0m \u001b[0;32min\u001b[0m \u001b[0mrange\u001b[0m\u001b[0;34m(\u001b[0m\u001b[0;36m1\u001b[0m\u001b[0;34m,\u001b[0m \u001b[0;36m6\u001b[0m\u001b[0;34m)\u001b[0m\u001b[0;34m:\u001b[0m\u001b[0;34m\u001b[0m\u001b[0;34m\u001b[0m\u001b[0m\n\u001b[0;32m----> 2\u001b[0;31m     \u001b[0mimg\u001b[0m \u001b[0;34m=\u001b[0m \u001b[0mcv\u001b[0m\u001b[0;34m.\u001b[0m\u001b[0mimread\u001b[0m\u001b[0;34m(\u001b[0m\u001b[0;34mf'{x}.png'\u001b[0m\u001b[0;34m)\u001b[0m\u001b[0;34m[\u001b[0m\u001b[0;34m:\u001b[0m\u001b[0;34m,\u001b[0m \u001b[0;34m:\u001b[0m\u001b[0;34m,\u001b[0m \u001b[0;36m0\u001b[0m\u001b[0;34m]\u001b[0m\u001b[0;34m\u001b[0m\u001b[0;34m\u001b[0m\u001b[0m\n\u001b[0m\u001b[1;32m      3\u001b[0m     \u001b[0mimg\u001b[0m \u001b[0;34m=\u001b[0m \u001b[0mnp\u001b[0m\u001b[0;34m.\u001b[0m\u001b[0minvert\u001b[0m\u001b[0;34m(\u001b[0m\u001b[0mnp\u001b[0m\u001b[0;34m.\u001b[0m\u001b[0marray\u001b[0m\u001b[0;34m(\u001b[0m\u001b[0;34m[\u001b[0m\u001b[0mimg\u001b[0m\u001b[0;34m]\u001b[0m\u001b[0;34m)\u001b[0m\u001b[0;34m)\u001b[0m\u001b[0;34m\u001b[0m\u001b[0;34m\u001b[0m\u001b[0m\n\u001b[1;32m      4\u001b[0m     \u001b[0mprediction\u001b[0m \u001b[0;34m=\u001b[0m \u001b[0mmodel\u001b[0m\u001b[0;34m.\u001b[0m\u001b[0mpredict\u001b[0m\u001b[0;34m(\u001b[0m\u001b[0mimg\u001b[0m\u001b[0;34m)\u001b[0m\u001b[0;34m\u001b[0m\u001b[0;34m\u001b[0m\u001b[0m\n\u001b[1;32m      5\u001b[0m     \u001b[0mprint\u001b[0m\u001b[0;34m(\u001b[0m\u001b[0;34mf'The result is probably: {np.argmax(prediction)}'\u001b[0m\u001b[0;34m)\u001b[0m\u001b[0;34m\u001b[0m\u001b[0;34m\u001b[0m\u001b[0m\n",
      "\u001b[0;31mNameError\u001b[0m: name 'cv' is not defined"
     ]
    }
   ],
   "source": [
    "for x in range(1, 6):\n",
    "    img = cv.imread(f'{x}.png')[:, :, 0]\n",
    "    img = np.invert(np.array([img]))\n",
    "    prediction = model.predict(img)\n",
    "    print(f'The result is probably: {np.argmax(prediction)}')\n",
    "    plt.imshow(img[0], cmap=plt.cm.binary)\n",
    "    plt.show()"
   ]
  },
  {
   "cell_type": "markdown",
   "metadata": {},
   "source": [
    "## Findings\n",
    "\n",
    "Wir sehen das 3 von 5 Zahlen richtig angegeben wurden. Dies Unregelmässigkeit kann verschiedene Ursachen haben. So treten\n",
    "sicher bei der Synthese der Datenbilder Unregelmässigkeiten auf. Mögliche Diskrepanzen können der Scanner, Kontrastwert,\n",
    "die Ausschnittsgrösse und die Position der Ziffer sein. Eine weiter Möglichkeit könnte sein, die persönliche Handschrift\n",
    "bereits in die Trainingsadten einfliessen zu lassen. Ausserdem könnte das verändern der Hidden-Layouts Verbesserungen\n",
    "bei der Erkennung bewirken. Eine weitere Ursache kann der Zufal sein. <br>\n",
    "In meinem Beispiel konnte ich nach Anpassen das \"epchs\" Wert auf 20, bereits 4 von 5 Zahlen erkennen. Was darauf hindeutet\n",
    "das mit genügend Training, die Genauigkeit zunimmt und eventuell alle Ziffern erkennt werden.\n"
   ]
  },
  {
   "cell_type": "markdown",
   "metadata": {
    "pycharm": {
     "name": "#%% md\n"
    }
   },
   "source": [
    "---\n",
    "## Quellenverzeichnis\n",
    "\n",
    "### Abbildungsverzeichnis\n",
    "\n",
    "[1] Abbilidung 1: Russell, Matthew A. / Mikhail Klassen (2019): Mining the Social Web: Data Mining Facebook, Twitter, LinkedIn, Instagram,\n",
    "GitHub, and More, 3. Aufl., Sebastopol, USA, California: O’Reilly Media. s. 98\n",
    "\n",
    "### Literaturverzeichnis\n",
    "\n",
    "[1] Russell, Matthew A. / Mikhail Klassen (2019): Mining the Social Web: Data Mining Facebook, Twitter, LinkedIn, Instagram,\n",
    "GitHub, and More, 3. Aufl., Sebastopol, USA, California: O’Reilly Media.\n",
    "\n",
    "[2] Wikipedia, https://de.wikipedia.org/wiki/MNIST-Datenbank, Abgerufen am 07.11.2020\n"
   ]
  }
 ],
 "metadata": {
  "kernelspec": {
   "display_name": "PyCharm (data-science)",
   "language": "python",
   "name": "pycharm-bcd54842"
  },
  "language_info": {
   "codemirror_mode": {
    "name": "ipython",
    "version": 3
   },
   "file_extension": ".py",
   "mimetype": "text/x-python",
   "name": "python",
   "nbconvert_exporter": "python",
   "pygments_lexer": "ipython3",
   "version": "3.8.6"
  }
 },
 "nbformat": 4,
 "nbformat_minor": 1
}
