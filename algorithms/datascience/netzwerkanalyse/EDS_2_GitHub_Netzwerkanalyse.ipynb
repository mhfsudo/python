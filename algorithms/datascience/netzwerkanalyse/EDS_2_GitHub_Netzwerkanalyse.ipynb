{
 "cells": [
  {
   "cell_type": "markdown",
   "metadata": {},
   "source": [
    "# Netzerkanalyse mit GitHub"
   ]
  },
  {
   "cell_type": "markdown",
   "metadata": {},
   "source": [
    "Semesterarbeit 2\n",
    "\n",
    "## EDS-Einführung in Data Science\n",
    "\n",
    "Klasse: BSc INF-P-IN010, BE1, HS20/21<br>\n",
    "Dozent: Dr. Tim vor der Brück<br>\n",
    "Autor:  Sandro Bürki, Michael Friderich<br>\n",
    "Datum:  09.10.2020<br>"
   ]
  },
  {
   "cell_type": "markdown",
   "metadata": {},
   "source": []
  },
  {
   "cell_type": "markdown",
   "metadata": {},
   "source": [
    "## Einleitung\n",
    "\n",
    "In der Entwicklung von Software steht für viele Firmen die effizienz an erster Stelle. Oftmals stellt sich hierbei die\n",
    "Frage, ob sich der Einsatz von spezialisierten Fachpersonen im Vergleich zu Entwicklern mit breitem Know-How von\n",
    "verschiedenen Projekten positiv auf die Effizienz im Team auswirkt. Viele Projektmethodiken oder Projektframeworks (wie\n",
    "beispielsweise SCRUM) setzen dabei auf eine Fokussierung der Arbeitskraft, anstelle eines breiten Einsatzgebietes.\n",
    "\n",
    "Diese Mentalität sollte sich somit in einer Netzwerkanalyse zeigen. Die Repositories von Firmen sollten primär von\n",
    "spezifischen Personen gepflegt werden, welche sich nicht weiter stark an anderen Projekten betreffen. Mit dieser\n",
    "Frage beschäftigt sich die vorliegende Arbeit.\n",
    "\n",
    "Es gilt herauszufinden, wie stark sich die Repositories und ihre Contributors _segregieren_. Hierbei werden die\n",
    "Centrality-Measurements miteinander verglichen. Sollte sich unsere These bestätigen, dass diese Segregierung eintritt,\n",
    "sollten folgende Eigenschaften gelten:\n",
    "1. Die Anzahl an Edges liegt nicht weit über der Anzahl an Contributors.\n",
    "2. Die Betweenness-Centrality der meisten Benutzergeht ist 0.\n",
    "3. Die Betweenness-Centrality der restlichen Benutzer geht gegen 0."
   ]
  },
  {
   "cell_type": "markdown",
   "metadata": {
    "pycharm": {
     "name": "#%% md\n"
    }
   },
   "source": [
    "## Vorgehen\n",
    "\n",
    "Der Code ist weitgehend in zwei Teile aufgeteilt. Zuerst werden die Daten von GitHub abgerufen. Anschliessend wird von\n",
    "den Daten ein Backup in ein .json-File erstellt, da die Abfrage über viele Repositories viel Zeit in anspruch\n",
    "nehmen kann, und somit die wiederverwendbarkeit nach einem Neustart des Jupyter-Notebooks vereinfacht wird.\n",
    "\n",
    "Im zweiten Teil des Codes werden anhand der Daten findings gezogen.\n",
    "\n",
    "### Daten abrufen\n",
    "\n",
    "Zuerst werden die Informationen zu einer Firma aus GitHub geladen. Hierbei muss die entsprechende Firma und der\n",
    "Access-Token gesetzt werden."
   ]
  },
  {
   "cell_type": "code",
   "execution_count": 4,
   "metadata": {},
   "outputs": [
    {
     "name": "stdout",
     "output_type": "stream",
     "text": [
      "number of repos found: 1923\n"
     ]
    }
   ],
   "source": [
    "# HTTP request to GitHub's API\n",
    "import json\n",
    "from math import ceil\n",
    "import requests\n",
    "from IPython.core.display import display\n",
    "from ipywidgets import HTML\n",
    "\n",
    "ACCESS_TOKEN = '<INSERT-ACCESS-TOKEN-HERE>'\n",
    "\n",
    "organisationName = \"Google\"\n",
    "\n",
    "organisationUrlTemplate = 'https://api.github.com/orgs/{}'\n",
    "organisationUrl = organisationUrlTemplate.format(organisationName)\n",
    "\n",
    "response = requests.get(organisationUrl)\n",
    "organisation = response.json()\n",
    "\n",
    "organisationRepoCount = organisation[\"public_repos\"]\n",
    "print(\"number of repos found: {}\".format(organisationRepoCount))"
   ]
  },
  {
   "cell_type": "markdown",
   "metadata": {
    "pycharm": {
     "name": "#%% md\n"
    }
   },
   "source": [
    "Anschliessend werden alle Repositories der Firma geladen. Da jeweils nur 100 Repos pro Aufruf möglich sind, werden sie\n",
    "in entsprechenden Teilen zusammengefügt."
   ]
  },
  {
   "cell_type": "code",
   "execution_count": 2,
   "metadata": {
    "pycharm": {
     "name": "#%%\n"
    }
   },
   "outputs": [
    {
     "name": "stdout",
     "output_type": "stream",
     "text": [
      "Repository page #0 loaded. (2 / 1923)\n",
      "Repository page #1 loaded. (4 / 1923)\n",
      "Repository page #2 loaded. (6 / 1923)\n",
      "Repository page #3 loaded. (8 / 1923)\n",
      "Repository page #4 loaded. (10 / 1923)\n",
      "Repository page #5 loaded. (12 / 1923)\n",
      "Repository page #6 loaded. (14 / 1923)\n",
      "Repository page #7 loaded. (16 / 1923)\n",
      "Repository page #8 loaded. (18 / 1923)\n",
      "Repository page #9 loaded. (20 / 1923)\n",
      "Repository page #10 loaded. (22 / 1923)\n",
      "Repository page #11 loaded. (24 / 1923)\n",
      "Repository page #12 loaded. (26 / 1923)\n",
      "Repository page #13 loaded. (28 / 1923)\n",
      "Repository page #14 loaded. (30 / 1923)\n",
      "Repository page #15 loaded. (32 / 1923)\n",
      "Repository page #16 loaded. (34 / 1923)\n",
      "Repository page #17 loaded. (36 / 1923)\n",
      "Repository page #18 loaded. (38 / 1923)\n",
      "Repository page #19 loaded. (40 / 1923)\n",
      "Repository page #20 loaded. (42 / 1923)\n"
     ]
    }
   ],
   "source": [
    "pageSize = 100\n",
    "\n",
    "repositories = []\n",
    "for page in range(0, ceil(organisationRepoCount / pageSize) + 1):\n",
    "\n",
    "    organisationReposUrlTemplate = '{}?type=source&per_page=100&page={}&access_token={}'\n",
    "    organisationReposUrl = organisationReposUrlTemplate.format(organisation[\"repos_url\"], page, ACCESS_TOKEN)\n",
    "    response = requests.get(organisationReposUrl)\n",
    "    repositories.extend(response.json())\n",
    "    print(\"Repository page #{} loaded. ({} / {})\".format(page, len(repositories), organisationRepoCount))"
   ]
  },
  {
   "cell_type": "markdown",
   "metadata": {
    "pycharm": {
     "name": "#%% md\n"
    }
   },
   "source": [
    "Zu den Repositories können nun die Informationen der Contributors geladen werden. Da dies je nach Firma viele\n",
    "Repositories sein können (im Beispiel von Google ca. 1900), kann dies einige Zeit in Anspruch nehmen."
   ]
  },
  {
   "cell_type": "code",
   "execution_count": 9,
   "metadata": {
    "pycharm": {
     "name": "#%%\n"
    }
   },
   "outputs": [
    {
     "name": "stdout",
     "output_type": "stream",
     "text": [
      "Loading contributors of repositories. Depending on the size, this might take a while.\n"
     ]
    },
    {
     "ename": "TypeError",
     "evalue": "'str' object does not support item assignment",
     "output_type": "error",
     "traceback": [
      "\u001b[0;31m---------------------------------------------------------------------------\u001b[0m",
      "\u001b[0;31mTypeError\u001b[0m                                 Traceback (most recent call last)",
      "\u001b[0;32m<ipython-input-9-74f434b0cb6c>\u001b[0m in \u001b[0;36m<module>\u001b[0;34m\u001b[0m\n\u001b[1;32m      4\u001b[0m \u001b[0;32mfor\u001b[0m \u001b[0mindex\u001b[0m\u001b[0;34m,\u001b[0m \u001b[0mrepository\u001b[0m \u001b[0;32min\u001b[0m \u001b[0menumerate\u001b[0m\u001b[0;34m(\u001b[0m\u001b[0mrepositories\u001b[0m\u001b[0;34m)\u001b[0m\u001b[0;34m:\u001b[0m\u001b[0;34m\u001b[0m\u001b[0;34m\u001b[0m\u001b[0m\n\u001b[1;32m      5\u001b[0m     \u001b[0mcontributorUrlTemplate\u001b[0m \u001b[0;34m=\u001b[0m \u001b[0;34m\"{}?per_page=100&page={}&access_token={}\"\u001b[0m\u001b[0;34m\u001b[0m\u001b[0;34m\u001b[0m\u001b[0m\n\u001b[0;32m----> 6\u001b[0;31m     \u001b[0mrepository\u001b[0m\u001b[0;34m[\u001b[0m\u001b[0;34m\"contributors\"\u001b[0m\u001b[0;34m]\u001b[0m \u001b[0;34m=\u001b[0m \u001b[0;34m[\u001b[0m\u001b[0;34m]\u001b[0m\u001b[0;34m\u001b[0m\u001b[0;34m\u001b[0m\u001b[0m\n\u001b[0m\u001b[1;32m      7\u001b[0m     \u001b[0mpage\u001b[0m \u001b[0;34m=\u001b[0m \u001b[0;36m0\u001b[0m\u001b[0;34m\u001b[0m\u001b[0;34m\u001b[0m\u001b[0m\n\u001b[1;32m      8\u001b[0m     \u001b[0;32mwhile\u001b[0m \u001b[0;32mTrue\u001b[0m\u001b[0;34m:\u001b[0m\u001b[0;34m\u001b[0m\u001b[0;34m\u001b[0m\u001b[0m\n",
      "\u001b[0;31mTypeError\u001b[0m: 'str' object does not support item assignment"
     ]
    }
   ],
   "source": [
    "print(\"Loading contributors of repositories. Depending on the size, this might take a while.\")\n",
    "numberOfRepositories = len(repositories)\n",
    "\n",
    "for index, repository in enumerate(repositories):\n",
    "    contributorUrlTemplate = \"{}?per_page=100&page={}&access_token={}\"\n",
    "    repository[\"contributors\"] = []\n",
    "    page = 0\n",
    "    while True:\n",
    "        response = requests.get(contributorUrlTemplate.format(repository[\"contributors_url\"], page, ACCESS_TOKEN))\n",
    "        if response.status_code == 204:\n",
    "            contributors = []\n",
    "        else:\n",
    "            contributors = response.json()\n",
    "\n",
    "        page += 1\n",
    "        if len(contributors) != 100:\n",
    "            break\n",
    "\n",
    "    if \"message\" in contributors:\n",
    "        contributors = []\n",
    "\n",
    "    repository['contributors'].extend(contributors)\n",
    "    print(\"Contributors for repo #{} of {} loaded\".format(index + 1, numberOfRepositories))"
   ]
  },
  {
   "cell_type": "markdown",
   "metadata": {
    "pycharm": {
     "name": "#%% md\n"
    }
   },
   "source": [
    "Für die einfache Wiederverwertung können hier BackUps der geladenen Daten erstellt werden."
   ]
  },
  {
   "cell_type": "code",
   "execution_count": null,
   "metadata": {
    "pycharm": {
     "name": "#%%\n"
    }
   },
   "outputs": [],
   "source": [
    "with open('repositories_backup.json', 'w') as fp:\n",
    "    json.dump(repositories, fp)"
   ]
  },
  {
   "cell_type": "code",
   "execution_count": null,
   "metadata": {
    "pycharm": {
     "name": "#%%\n"
    }
   },
   "outputs": [],
   "source": [
    "import json\n",
    "\n",
    "with open('repositories_backup.json', 'r') as fp:\n",
    "    repositories = json.load(fp)"
   ]
  },
  {
   "cell_type": "markdown",
   "metadata": {
    "pycharm": {
     "name": "#%% md\n"
    }
   },
   "source": [
    "GitHub bietet bei einem kostenlosen Plan nicht für beliebige Grössen der Repositories an, alle Contributors zu laden,\n",
    "weshalb hier die Fehlermeldungen einiger Repos entfernt werden."
   ]
  },
  {
   "cell_type": "code",
   "execution_count": 12,
   "metadata": {
    "pycharm": {
     "name": "#%%\n"
    }
   },
   "outputs": [
    {
     "ename": "TypeError",
     "evalue": "string indices must be integers",
     "output_type": "error",
     "traceback": [
      "\u001b[0;31m---------------------------------------------------------------------------\u001b[0m",
      "\u001b[0;31mTypeError\u001b[0m                                 Traceback (most recent call last)",
      "\u001b[0;32m<ipython-input-12-1c25fb29dc33>\u001b[0m in \u001b[0;36m<module>\u001b[0;34m\u001b[0m\n\u001b[1;32m      1\u001b[0m \u001b[0;32mfor\u001b[0m \u001b[0mrepo\u001b[0m \u001b[0;32min\u001b[0m \u001b[0mrepositories\u001b[0m\u001b[0;34m:\u001b[0m\u001b[0;34m\u001b[0m\u001b[0;34m\u001b[0m\u001b[0m\n\u001b[0;32m----> 2\u001b[0;31m     \u001b[0;32mif\u001b[0m \u001b[0;34m\"message\"\u001b[0m \u001b[0;32min\u001b[0m \u001b[0mrepo\u001b[0m\u001b[0;34m[\u001b[0m\u001b[0;34m\"contributors\"\u001b[0m\u001b[0;34m]\u001b[0m\u001b[0;34m:\u001b[0m\u001b[0;34m\u001b[0m\u001b[0;34m\u001b[0m\u001b[0m\n\u001b[0m\u001b[1;32m      3\u001b[0m         \u001b[0mrepo\u001b[0m\u001b[0;34m[\u001b[0m\u001b[0;34m\"contributors\"\u001b[0m\u001b[0;34m]\u001b[0m \u001b[0;34m=\u001b[0m \u001b[0;34m[\u001b[0m\u001b[0;34m]\u001b[0m\u001b[0;34m\u001b[0m\u001b[0;34m\u001b[0m\u001b[0m\n\u001b[1;32m      4\u001b[0m \u001b[0;34m\u001b[0m\u001b[0m\n",
      "\u001b[0;31mTypeError\u001b[0m: string indices must be integers"
     ]
    }
   ],
   "source": [
    "for repo in repositories:\n",
    "    if \"message\" in repo[\"contributors\"]:\n",
    "        repo[\"contributors\"] = []"
   ]
  },
  {
   "cell_type": "markdown",
   "metadata": {
    "pycharm": {
     "name": "#%% md\n"
    }
   },
   "source": [
    "Und um schlussendlich die Anzahl an Knoten an die Aufgabenstellung anzupassen, werden hier nur Repositories\n",
    "berücksichtigt, welche über mehr als 80 Contributors umfassen. Die ungefilterte Liste würde ansonsten für Google ca.\n",
    "12000 Knoten erstellen, was den Ramen dieser Arbeit sprengen würde."
   ]
  },
  {
   "cell_type": "code",
   "execution_count": 13,
   "metadata": {
    "pycharm": {
     "name": "#%%\n"
    }
   },
   "outputs": [
    {
     "ename": "TypeError",
     "evalue": "string indices must be integers",
     "output_type": "error",
     "traceback": [
      "\u001b[0;31m---------------------------------------------------------------------------\u001b[0m",
      "\u001b[0;31mTypeError\u001b[0m                                 Traceback (most recent call last)",
      "\u001b[0;32m<ipython-input-13-e76cb19f0f9a>\u001b[0m in \u001b[0;36m<module>\u001b[0;34m\u001b[0m\n\u001b[1;32m      1\u001b[0m \u001b[0mlargeRepos\u001b[0m \u001b[0;34m=\u001b[0m \u001b[0;34m[\u001b[0m\u001b[0;34m]\u001b[0m\u001b[0;34m\u001b[0m\u001b[0;34m\u001b[0m\u001b[0m\n\u001b[1;32m      2\u001b[0m \u001b[0;32mfor\u001b[0m \u001b[0mrepo\u001b[0m \u001b[0;32min\u001b[0m \u001b[0mrepositories\u001b[0m\u001b[0;34m:\u001b[0m\u001b[0;34m\u001b[0m\u001b[0;34m\u001b[0m\u001b[0m\n\u001b[0;32m----> 3\u001b[0;31m     \u001b[0;32mif\u001b[0m \u001b[0mlen\u001b[0m\u001b[0;34m(\u001b[0m\u001b[0mrepo\u001b[0m\u001b[0;34m[\u001b[0m\u001b[0;34m\"contributors\"\u001b[0m\u001b[0;34m]\u001b[0m\u001b[0;34m)\u001b[0m \u001b[0;34m>\u001b[0m \u001b[0;36m80\u001b[0m\u001b[0;34m:\u001b[0m\u001b[0;34m\u001b[0m\u001b[0;34m\u001b[0m\u001b[0m\n\u001b[0m\u001b[1;32m      4\u001b[0m         \u001b[0mlargeRepos\u001b[0m\u001b[0;34m.\u001b[0m\u001b[0mappend\u001b[0m\u001b[0;34m(\u001b[0m\u001b[0mrepo\u001b[0m\u001b[0;34m)\u001b[0m\u001b[0;34m\u001b[0m\u001b[0;34m\u001b[0m\u001b[0m\n\u001b[1;32m      5\u001b[0m \u001b[0;34m\u001b[0m\u001b[0m\n",
      "\u001b[0;31mTypeError\u001b[0m: string indices must be integers"
     ]
    }
   ],
   "source": [
    "largeRepos = []\n",
    "for repo in repositories:\n",
    "    if len(repo[\"contributors\"]) > 80:\n",
    "        largeRepos.append(repo)"
   ]
  },
  {
   "cell_type": "markdown",
   "metadata": {
    "pycharm": {
     "name": "#%% md\n"
    }
   },
   "source": [
    "### Graphen erstellen\n",
    "\n",
    "Im Folgenden wird ein Graph der Daten erstellt. Ebenfalls wird daraus ein .gefx-File generiert, welches die\n",
    "Visualisierung in Gephi ermöglicht."
   ]
  },
  {
   "cell_type": "code",
   "execution_count": 14,
   "metadata": {
    "pycharm": {
     "name": "#%%\n"
    }
   },
   "outputs": [],
   "source": [
    "import networkx as nx\n",
    "\n",
    "# Create a directed graph\n",
    "g = nx.Graph()\n",
    "for repository in largeRepos:\n",
    "    g.add_node(repository[\"name\"]+'(Repo)', type='Repo', color=\"green\")\n",
    "    contributors = repository[\"contributors\"]\n",
    "    for contributor in contributors:\n",
    "        g.add_node(contributor[\"login\"]+'(Contributor)', type='Contributor', color=\"pink\")\n",
    "        g.add_edge(contributor[\"login\"], repository[\"name\"]+'(Repo)', type='contribution', weight=contributor[\"contributions\"])\n",
    "\n",
    "# Write to File (open with Gephi)\n",
    "nx.write_gexf(g, 'graph.gexf')"
   ]
  },
  {
   "cell_type": "markdown",
   "metadata": {
    "pycharm": {
     "name": "#%% md\n"
    }
   },
   "source": [
    "### Messwerte berechnen\n",
    "\n",
    "Nachfolgend werden die gestellten Fragen mathematisch beantwortet"
   ]
  },
  {
   "cell_type": "code",
   "execution_count": 15,
   "metadata": {
    "pycharm": {
     "name": "#%%\n"
    }
   },
   "outputs": [
    {
     "name": "stdout",
     "output_type": "stream",
     "text": [
      "1. Die Anzahl an Edges liegt nicht weit über der Anzahl an Contributors.\n",
      "# of edges: 0\n",
      "# of contributors: 0\n",
      "\n",
      "2. Die Betweenness-Centrality der meisten Benutzer ist 0.\n",
      "# of contributors with 0 bewteenness-centrality: 0 (of 0)\n",
      "\n",
      "3. Die Betweenness-Centrality der restlichen Benutzer geht gegen 0.\n",
      " -> ergibt sich aus 2.\n"
     ]
    }
   ],
   "source": [
    "from operator import itemgetter\n",
    "\n",
    "# Check findings mathematically\n",
    "bc = sorted(nx.betweenness_centrality(g).items(), key=itemgetter(1), reverse=True)\n",
    "\n",
    "# 1. property\n",
    "numberOfContributors = 0\n",
    "for node in bc:\n",
    "    if \"Contributor\" in node[0]:\n",
    "        numberOfContributors += 1\n",
    "\n",
    "print('1. Die Anzahl an Edges liegt nicht weit über der Anzahl an Contributors.')\n",
    "print('# of edges: {}'.format(nx.number_of_edges(g)))\n",
    "print('# of contributors: {}'.format(numberOfContributors))\n",
    "\n",
    "# 2. property\n",
    "\n",
    "numberOfContributorsWithZeroBetweenness = 0\n",
    "for node in bc:\n",
    "    if \"Contributor\" in node[0] and node[1] == 0:\n",
    "        numberOfContributorsWithZeroBetweenness += 1\n",
    "\n",
    "print()\n",
    "print('2. Die Betweenness-Centrality der meisten Benutzer ist 0.')\n",
    "print('# of contributors with 0 bewteenness-centrality: {} (of {})'.format(numberOfContributorsWithZeroBetweenness, numberOfContributors))\n",
    "\n",
    "print()\n",
    "print('3. Die Betweenness-Centrality der restlichen Benutzer geht gegen 0.')\n",
    "print(' -> ergibt sich aus 2.')"
   ]
  },
  {
   "attachments": {},
   "cell_type": "markdown",
   "metadata": {},
   "source": [
    "## Findings\n",
    "\n",
    "Die Resultate bestätigt unsere These, zumindest im Fall von Google. Insbesondere in der Visualisierung des Graphen in\n",
    "Gephi lassen sich die Repository-Inseln gut erkennen, und es gibt nur einzelne Benutzer, welche an mehreren Projekten\n",
    "gleichzeitig arbeiten. Für diese Visualisierung wurde der Layout-Algorithmus _ForceAtlas 2_ verwendet."
   ]
  },
  {
   "cell_type": "code",
   "execution_count": 16,
   "metadata": {
    "pycharm": {
     "name": "#%%\n"
    },
    "scrolled": false
   },
   "outputs": [
    {
     "data": {
      "text/html": [
       "<img src=\"images/gephi.png\" width=\"600px\" style=\"margin: auto\" />"
      ],
      "text/plain": [
       "<IPython.core.display.HTML object>"
      ]
     },
     "metadata": {},
     "output_type": "display_data"
    }
   ],
   "source": [
    "from IPython.display import HTML\n",
    "from IPython.core.display import display\n",
    "\n",
    "display(HTML('<img src=\"images/gephi.png\" width=\"600px\" style=\"margin: auto\" />'))"
   ]
  },
  {
   "cell_type": "markdown",
   "metadata": {},
   "source": [
    "###### Abbildung 1 - Visualisierung in Gephi\n",
    "---\n",
    "## Abbildungsverzeichnis\n",
    "Abbildung 1: Friderich A., Bürki S. (2020)\n",
    "\n",
    "## Literaturverzeichnis\n",
    "\n",
    "[1] Russell, Matthew A. / Mikhail Klassen (2019): Mining the Social Web: Data Mining Facebook, Twitter, LinkedIn, Instagram, GitHub, and More, 3. Aufl., Sebastopol, USA, California: O’Reilly Media."
   ]
  }
 ],
 "metadata": {
  "kernelspec": {
   "display_name": "PyCharm (data-science)",
   "language": "python",
   "name": "pycharm-bcd54842"
  },
  "language_info": {
   "codemirror_mode": {
    "name": "ipython",
    "version": 3
   },
   "file_extension": ".py",
   "mimetype": "text/x-python",
   "name": "python",
   "nbconvert_exporter": "python",
   "pygments_lexer": "ipython3",
   "version": "3.8.5"
  }
 },
 "nbformat": 4,
 "nbformat_minor": 2
}
