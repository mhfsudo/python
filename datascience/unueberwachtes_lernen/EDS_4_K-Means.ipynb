{
 "cells": [
  {
   "cell_type": "markdown",
   "metadata": {
    "collapsed": true,
    "pycharm": {
     "name": "#%% md\n"
    }
   },
   "source": [
    "# Unüberwachtes Lernen mit Twitter"
   ]
  },
  {
   "cell_type": "markdown",
   "metadata": {},
   "source": [
    "Semesterarbeit 4\n",
    "\n",
    "## EDS-Einführung in Data Science\n",
    "\n",
    "Klasse: BSc INF-P-IN010, BE1, HS20/21<br>\n",
    "Dozent: Dr. Tim vor der Brück<br>\n",
    "Autor:  Michael Friderich<br>\n",
    "Datum:  08.01.2021<br>"
   ]
  },
  {
   "cell_type": "markdown",
   "metadata": {},
   "source": [
    "## Einleitung\n",
    "\n",
    "Viel häufiger als beim überwachten Lernen, treffen wir auf das unüberwachte Lernen. Dabei sind die Daten nicht\n",
    "klassifiziert, was natürlich auf die meisten zugänglichen Daten zutrifft. In dieser Arbeit werden wir Daten von Twitter\n",
    "herunterladen. Diese sollen anschliessend in Cluster verteilt werden. Um die Anzahl Cluster zu berechnen, werden wir die\n",
    "Ellbow-Methode anwenden. Anschliessend werden die Daten mittels K-Means Algorithmus auf die Cluster verteilt. Zum Schluss\n",
    "erhalten die einzelnen Cluster einen Centroiden und die Daten werden solange optimiert bis die Zuteilung optimal ist."
   ]
  },
  {
   "cell_type": "markdown",
   "metadata": {
    "pycharm": {
     "name": "#%% md\n"
    }
   },
   "source": [
    "## Verbindung mit der Twitter API\n",
    "Als Erstes richten wir den Zugriff zu der Twitter API ein. Die benötigten credentials befinden sich in einem separaten\n",
    "File (Twitter_credentials.py) welches hier importiert wird. Dies ermöglicht uns Daten mittels der angebotenen API\n",
    "von Twitter abzurufen."
   ]
  },
  {
   "cell_type": "code",
   "execution_count": 1,
   "metadata": {
    "pycharm": {
     "name": "#%%\n"
    }
   },
   "outputs": [
    {
     "name": "stdout",
     "output_type": "stream",
     "text": [
      "<twitter.api.Twitter object at 0x7f35e076b760>\n"
     ]
    }
   ],
   "source": [
    "import twitter\n",
    "import Twitter_credentials\n",
    "\n",
    "# connect to Twitter's API\n",
    "auth = twitter.oauth.OAuth(Twitter_credentials.OAUTH_TOKEN,\n",
    "                           Twitter_credentials.OAUTH_TOKEN_SECRET,\n",
    "                           Twitter_credentials.CONSUMER_KEY,\n",
    "                           Twitter_credentials.CONSUMER_SECRET)\n",
    "\n",
    "twitter_api = twitter.Twitter(auth=auth)\n",
    "print(twitter_api)"
   ]
  },
  {
   "cell_type": "markdown",
   "metadata": {
    "pycharm": {
     "name": "#%% md\n"
    }
   },
   "source": [
    "## Datensatz\n",
    "\n",
    "Der erste wichtige Punkt der beachtet werden muss, sind die Daten. Sie müssen in geeigneter Form und in passendem Format\n",
    "vorhanden sein. Zum Beispiel sind bei den weltweite trendigen Topics auch Zeichen ausserhalb des UTF-8 Zeichensatzes\n",
    "enthalten. Dies muss bei der Datenbearbeitung berücksichtigt werden und die Daten gegebenenfalls zuerst angepasst werden.\n",
    "\n",
    "Ich habe mich entschieden die 58 trendigen Topis aus der Schweiz abzurufen. Dafür bietet die Twitter API eine Methode an.\n",
    "Die WORLD_WOE_ID kann auf die gewünschte Region angepasst werden. Anschliessend werden die erhaltenen Topics im JSON Format\n",
    "ausgegeben."
   ]
  },
  {
   "cell_type": "code",
   "execution_count": 3,
   "metadata": {
    "pycharm": {
     "name": "#%%\n"
    }
   },
   "outputs": [
    {
     "name": "stdout",
     "output_type": "stream",
     "text": [
      "Top trends from Switzerland:\n",
      "[\n",
      " {\n",
      "  \"trends\": [\n",
      "   {\n",
      "    \"name\": \"#WeHaveAPlan\",\n",
      "    \"url\": \"http://twitter.com/search?q=%23WeHaveAPlan\",\n",
      "    \"promoted_content\": null,\n",
      "    \"query\": \"%23WeHaveAPlan\",\n",
      "    \"tweet_volume\": null\n",
      "   },\n",
      "   {\n",
      "    \"name\": \"#Adelboden\",\n",
      "    \"url\": \"http://twitter.com/search?q=%23Adelboden\",\n",
      "    \"promoted_content\": null,\n",
      "    \"query\": \"%23Adelboden\",\n",
      "    \"tweet_volume\": null\n",
      "   },\n",
      "   {\n",
      "    \"name\": \"Markt\",\n",
      "    \"url\": \"http://twitter.com/search?q=Markt\",\n",
      "    \"promoted_content\": null,\n",
      "    \"query\": \"Markt\",\n",
      "    \"tweet_volume\": null\n",
      "   },\n",
      "   {\n",
      "    \"name\": \"#climatechange\",\n",
      "    \"url\": \"http://twitter.com/search?q=%23climatechange\",\n",
      "    \"promoted_content\": null,\n",
      "    \"query\": \"%23climatechange\",\n",
      "    \"tweet_volume\": null\n",
      "   },\n",
      "   {\n",
      "    \"name\": \"Arzt\",\n",
      "    \"url\": \"http://twitter.com/search?q=Arzt\",\n",
      "    \"promoted_content\": null,\n",
      "    \"query\": \"Arzt\",\n",
      "    \"tweet_volume\": null\n",
      "   },\n",
      "   {\n",
      "    \"name\": \"Threema\",\n",
      "    \"url\": \"http://twitter.com/search?q=Threema\",\n",
      "    \"promoted_content\": null,\n",
      "    \"query\": \"Threema\",\n",
      "    \"tweet_volume\": null\n",
      "   },\n",
      "   {\n",
      "    \"name\": \"Umsatz\",\n",
      "    \"url\": \"http://twitter.com/search?q=Umsatz\",\n",
      "    \"promoted_content\": null,\n",
      "    \"query\": \"Umsatz\",\n",
      "    \"tweet_volume\": null\n",
      "   },\n",
      "   {\n",
      "    \"name\": \"Einsatz\",\n",
      "    \"url\": \"http://twitter.com/search?q=Einsatz\",\n",
      "    \"promoted_content\": null,\n",
      "    \"query\": \"Einsatz\",\n",
      "    \"tweet_volume\": null\n",
      "   },\n",
      "   {\n",
      "    \"name\": \"#PMTnein\",\n",
      "    \"url\": \"http://twitter.com/search?q=%23PMTnein\",\n",
      "    \"promoted_content\": null,\n",
      "    \"query\": \"%23PMTnein\",\n",
      "    \"tweet_volume\": null\n",
      "   },\n",
      "   {\n",
      "    \"name\": \"Verf\\u00fcgung\",\n",
      "    \"url\": \"http://twitter.com/search?q=Verf%C3%BCgung\",\n",
      "    \"promoted_content\": null,\n",
      "    \"query\": \"Verf%C3%BCgung\",\n",
      "    \"tweet_volume\": null\n",
      "   },\n",
      "   {\n",
      "    \"name\": \"Branchen\",\n",
      "    \"url\": \"http://twitter.com/search?q=Branchen\",\n",
      "    \"promoted_content\": null,\n",
      "    \"query\": \"Branchen\",\n",
      "    \"tweet_volume\": null\n",
      "   },\n",
      "   {\n",
      "    \"name\": \"China\",\n",
      "    \"url\": \"http://twitter.com/search?q=China\",\n",
      "    \"promoted_content\": null,\n",
      "    \"query\": \"China\",\n",
      "    \"tweet_volume\": 508508\n",
      "   },\n",
      "   {\n",
      "    \"name\": \"Tisch\",\n",
      "    \"url\": \"http://twitter.com/search?q=Tisch\",\n",
      "    \"promoted_content\": null,\n",
      "    \"query\": \"Tisch\",\n",
      "    \"tweet_volume\": null\n",
      "   },\n",
      "   {\n",
      "    \"name\": \"#fisalpine\",\n",
      "    \"url\": \"http://twitter.com/search?q=%23fisalpine\",\n",
      "    \"promoted_content\": null,\n",
      "    \"query\": \"%23fisalpine\",\n",
      "    \"tweet_volume\": null\n",
      "   },\n",
      "   {\n",
      "    \"name\": \"Januar 2021\",\n",
      "    \"url\": \"http://twitter.com/search?q=%22Januar+2021%22\",\n",
      "    \"promoted_content\": null,\n",
      "    \"query\": \"%22Januar+2021%22\",\n",
      "    \"tweet_volume\": null\n",
      "   },\n",
      "   {\n",
      "    \"name\": \"Wunder\",\n",
      "    \"url\": \"http://twitter.com/search?q=Wunder\",\n",
      "    \"promoted_content\": null,\n",
      "    \"query\": \"Wunder\",\n",
      "    \"tweet_volume\": null\n",
      "   },\n",
      "   {\n",
      "    \"name\": \"WhatsApp\",\n",
      "    \"url\": \"http://twitter.com/search?q=WhatsApp\",\n",
      "    \"promoted_content\": null,\n",
      "    \"query\": \"WhatsApp\",\n",
      "    \"tweet_volume\": 561474\n",
      "   },\n",
      "   {\n",
      "    \"name\": \"Zurich\",\n",
      "    \"url\": \"http://twitter.com/search?q=Zurich\",\n",
      "    \"promoted_content\": null,\n",
      "    \"query\": \"Zurich\",\n",
      "    \"tweet_volume\": null\n",
      "   },\n",
      "   {\n",
      "    \"name\": \"Schuhe\",\n",
      "    \"url\": \"http://twitter.com/search?q=Schuhe\",\n",
      "    \"promoted_content\": null,\n",
      "    \"query\": \"Schuhe\",\n",
      "    \"tweet_volume\": null\n",
      "   },\n",
      "   {\n",
      "    \"name\": \"Unterst\\u00fctzung\",\n",
      "    \"url\": \"http://twitter.com/search?q=Unterst%C3%BCtzung\",\n",
      "    \"promoted_content\": null,\n",
      "    \"query\": \"Unterst%C3%BCtzung\",\n",
      "    \"tweet_volume\": null\n",
      "   },\n",
      "   {\n",
      "    \"name\": \"Kontext\",\n",
      "    \"url\": \"http://twitter.com/search?q=Kontext\",\n",
      "    \"promoted_content\": null,\n",
      "    \"query\": \"Kontext\",\n",
      "    \"tweet_volume\": null\n",
      "   },\n",
      "   {\n",
      "    \"name\": \"Kontakte\",\n",
      "    \"url\": \"http://twitter.com/search?q=Kontakte\",\n",
      "    \"promoted_content\": null,\n",
      "    \"query\": \"Kontakte\",\n",
      "    \"tweet_volume\": null\n",
      "   },\n",
      "   {\n",
      "    \"name\": \"Patienten\",\n",
      "    \"url\": \"http://twitter.com/search?q=Patienten\",\n",
      "    \"promoted_content\": null,\n",
      "    \"query\": \"Patienten\",\n",
      "    \"tweet_volume\": null\n",
      "   },\n",
      "   {\n",
      "    \"name\": \"Kunden\",\n",
      "    \"url\": \"http://twitter.com/search?q=Kunden\",\n",
      "    \"promoted_content\": null,\n",
      "    \"query\": \"Kunden\",\n",
      "    \"tweet_volume\": null\n",
      "   },\n",
      "   {\n",
      "    \"name\": \"Podcast\",\n",
      "    \"url\": \"http://twitter.com/search?q=Podcast\",\n",
      "    \"promoted_content\": null,\n",
      "    \"query\": \"Podcast\",\n",
      "    \"tweet_volume\": 161980\n",
      "   },\n",
      "   {\n",
      "    \"name\": \"Pfizer\",\n",
      "    \"url\": \"http://twitter.com/search?q=Pfizer\",\n",
      "    \"promoted_content\": null,\n",
      "    \"query\": \"Pfizer\",\n",
      "    \"tweet_volume\": 124661\n",
      "   },\n",
      "   {\n",
      "    \"name\": \"Impfung\",\n",
      "    \"url\": \"http://twitter.com/search?q=Impfung\",\n",
      "    \"promoted_content\": null,\n",
      "    \"query\": \"Impfung\",\n",
      "    \"tweet_volume\": null\n",
      "   },\n",
      "   {\n",
      "    \"name\": \"Suisses\",\n",
      "    \"url\": \"http://twitter.com/search?q=Suisses\",\n",
      "    \"promoted_content\": null,\n",
      "    \"query\": \"Suisses\",\n",
      "    \"tweet_volume\": null\n",
      "   },\n",
      "   {\n",
      "    \"name\": \"Grafik\",\n",
      "    \"url\": \"http://twitter.com/search?q=Grafik\",\n",
      "    \"promoted_content\": null,\n",
      "    \"query\": \"Grafik\",\n",
      "    \"tweet_volume\": null\n",
      "   },\n",
      "   {\n",
      "    \"name\": \"Gegenteil\",\n",
      "    \"url\": \"http://twitter.com/search?q=Gegenteil\",\n",
      "    \"promoted_content\": null,\n",
      "    \"query\": \"Gegenteil\",\n",
      "    \"tweet_volume\": null\n",
      "   },\n",
      "   {\n",
      "    \"name\": \"Risiko\",\n",
      "    \"url\": \"http://twitter.com/search?q=Risiko\",\n",
      "    \"promoted_content\": null,\n",
      "    \"query\": \"Risiko\",\n",
      "    \"tweet_volume\": null\n",
      "   },\n",
      "   {\n",
      "    \"name\": \"Argument\",\n",
      "    \"url\": \"http://twitter.com/search?q=Argument\",\n",
      "    \"promoted_content\": null,\n",
      "    \"query\": \"Argument\",\n",
      "    \"tweet_volume\": 87242\n",
      "   },\n",
      "   {\n",
      "    \"name\": \"Schritt\",\n",
      "    \"url\": \"http://twitter.com/search?q=Schritt\",\n",
      "    \"promoted_content\": null,\n",
      "    \"query\": \"Schritt\",\n",
      "    \"tweet_volume\": null\n",
      "   },\n",
      "   {\n",
      "    \"name\": \"Jesus\",\n",
      "    \"url\": \"http://twitter.com/search?q=Jesus\",\n",
      "    \"promoted_content\": null,\n",
      "    \"query\": \"Jesus\",\n",
      "    \"tweet_volume\": 330809\n",
      "   },\n",
      "   {\n",
      "    \"name\": \"Wirtschaft\",\n",
      "    \"url\": \"http://twitter.com/search?q=Wirtschaft\",\n",
      "    \"promoted_content\": null,\n",
      "    \"query\": \"Wirtschaft\",\n",
      "    \"tweet_volume\": null\n",
      "   },\n",
      "   {\n",
      "    \"name\": \"J'avais\",\n",
      "    \"url\": \"http://twitter.com/search?q=J%27avais\",\n",
      "    \"promoted_content\": null,\n",
      "    \"query\": \"J%27avais\",\n",
      "    \"tweet_volume\": 35188\n",
      "   },\n",
      "   {\n",
      "    \"name\": \"Konzept\",\n",
      "    \"url\": \"http://twitter.com/search?q=Konzept\",\n",
      "    \"promoted_content\": null,\n",
      "    \"query\": \"Konzept\",\n",
      "    \"tweet_volume\": null\n",
      "   },\n",
      "   {\n",
      "    \"name\": \"Donald\",\n",
      "    \"url\": \"http://twitter.com/search?q=Donald\",\n",
      "    \"promoted_content\": null,\n",
      "    \"query\": \"Donald\",\n",
      "    \"tweet_volume\": 1539124\n",
      "   },\n",
      "   {\n",
      "    \"name\": \"Druck\",\n",
      "    \"url\": \"http://twitter.com/search?q=Druck\",\n",
      "    \"promoted_content\": null,\n",
      "    \"query\": \"Druck\",\n",
      "    \"tweet_volume\": null\n",
      "   },\n",
      "   {\n",
      "    \"name\": \"Gr\\u00fcnden\",\n",
      "    \"url\": \"http://twitter.com/search?q=Gr%C3%BCnden\",\n",
      "    \"promoted_content\": null,\n",
      "    \"query\": \"Gr%C3%BCnden\",\n",
      "    \"tweet_volume\": null\n",
      "   },\n",
      "   {\n",
      "    \"name\": \"Conseil\",\n",
      "    \"url\": \"http://twitter.com/search?q=Conseil\",\n",
      "    \"promoted_content\": null,\n",
      "    \"query\": \"Conseil\",\n",
      "    \"tweet_volume\": 19274\n",
      "   },\n",
      "   {\n",
      "    \"name\": \"Seiten\",\n",
      "    \"url\": \"http://twitter.com/search?q=Seiten\",\n",
      "    \"promoted_content\": null,\n",
      "    \"query\": \"Seiten\",\n",
      "    \"tweet_volume\": null\n",
      "   },\n",
      "   {\n",
      "    \"name\": \"Syria\",\n",
      "    \"url\": \"http://twitter.com/search?q=Syria\",\n",
      "    \"promoted_content\": null,\n",
      "    \"query\": \"Syria\",\n",
      "    \"tweet_volume\": 157385\n",
      "   },\n",
      "   {\n",
      "    \"name\": \"Spotify\",\n",
      "    \"url\": \"http://twitter.com/search?q=Spotify\",\n",
      "    \"promoted_content\": null,\n",
      "    \"query\": \"Spotify\",\n",
      "    \"tweet_volume\": 733882\n",
      "   },\n",
      "   {\n",
      "    \"name\": \"Australia\",\n",
      "    \"url\": \"http://twitter.com/search?q=Australia\",\n",
      "    \"promoted_content\": null,\n",
      "    \"query\": \"Australia\",\n",
      "    \"tweet_volume\": 127209\n",
      "   },\n",
      "   {\n",
      "    \"name\": \"Referendum\",\n",
      "    \"url\": \"http://twitter.com/search?q=Referendum\",\n",
      "    \"promoted_content\": null,\n",
      "    \"query\": \"Referendum\",\n",
      "    \"tweet_volume\": 30203\n",
      "   },\n",
      "   {\n",
      "    \"name\": \"krankheit\",\n",
      "    \"url\": \"http://twitter.com/search?q=krankheit\",\n",
      "    \"promoted_content\": null,\n",
      "    \"query\": \"krankheit\",\n",
      "    \"tweet_volume\": null\n",
      "   },\n",
      "   {\n",
      "    \"name\": \"Liverpool\",\n",
      "    \"url\": \"http://twitter.com/search?q=Liverpool\",\n",
      "    \"promoted_content\": null,\n",
      "    \"query\": \"Liverpool\",\n",
      "    \"tweet_volume\": 50709\n",
      "   },\n",
      "   {\n",
      "    \"name\": \"European\",\n",
      "    \"url\": \"http://twitter.com/search?q=European\",\n",
      "    \"promoted_content\": null,\n",
      "    \"query\": \"European\",\n",
      "    \"tweet_volume\": 57374\n",
      "   },\n",
      "   {\n",
      "    \"name\": \"Wirkung\",\n",
      "    \"url\": \"http://twitter.com/search?q=Wirkung\",\n",
      "    \"promoted_content\": null,\n",
      "    \"query\": \"Wirkung\",\n",
      "    \"tweet_volume\": null\n",
      "   }\n",
      "  ],\n",
      "  \"as_of\": \"2021-01-08T11:56:55Z\",\n",
      "  \"created_at\": \"2020-12-11T15:26:52Z\",\n",
      "  \"locations\": [\n",
      "   {\n",
      "    \"name\": \"Geneva\",\n",
      "    \"woeid\": 782538\n",
      "   }\n",
      "  ]\n",
      " }\n",
      "]\n",
      "\n"
     ]
    }
   ],
   "source": [
    "import json\n",
    "\n",
    "# finde the 50 trending topics in Switzerland\n",
    "WORLD_WOE_ID = 782538\n",
    "world_trends = twitter_api.trends.place(_id = WORLD_WOE_ID)\n",
    "print(\"Top trends from Switzerland:\")\n",
    "print(json.dumps(world_trends, indent=1))\n",
    "print()"
   ]
  },
  {
   "cell_type": "markdown",
   "metadata": {
    "pycharm": {
     "name": "#%% md\n"
    }
   },
   "source": [
    "In einem weiteren Schritt bringen wir die erhaltenen Daten in ein für uns passendes Format. Wir behalten den \"name\" und\n",
    "das \"tweet_volume\"."
   ]
  },
  {
   "cell_type": "code",
   "execution_count": 136,
   "metadata": {
    "pycharm": {
     "name": "#%%\n"
    }
   },
   "outputs": [
    {
     "name": "stdout",
     "output_type": "stream",
     "text": [
      "Name Tweet Volume\n",
      "#WeHaveAPlan None\n",
      "#Adelboden None\n",
      "Markt None\n",
      "#climatechange None\n",
      "Arzt None\n",
      "Threema None\n",
      "Umsatz None\n",
      "Einsatz None\n",
      "#PMTnein None\n",
      "Verfügung None\n",
      "Branchen None\n",
      "China 508508\n",
      "Tisch None\n",
      "#fisalpine None\n",
      "Januar 2021 None\n",
      "Wunder None\n",
      "WhatsApp 561474\n",
      "Zurich None\n",
      "Schuhe None\n",
      "Unterstützung None\n",
      "Kontext None\n",
      "Kontakte None\n",
      "Patienten None\n",
      "Kunden None\n",
      "Podcast 161980\n",
      "Pfizer 124661\n",
      "Impfung None\n",
      "Suisses None\n",
      "Grafik None\n",
      "Gegenteil None\n",
      "Risiko None\n",
      "Argument 87242\n",
      "Schritt None\n",
      "Jesus 330809\n",
      "Wirtschaft None\n",
      "J'avais 35188\n",
      "Konzept None\n",
      "Donald 1539124\n",
      "Druck None\n",
      "Gründen None\n",
      "Conseil 19274\n",
      "Seiten None\n",
      "Syria 157385\n",
      "Spotify 733882\n",
      "Australia 127209\n",
      "Referendum 30203\n",
      "krankheit None\n",
      "Liverpool 50709\n",
      "European 57374\n",
      "Wirkung None\n"
     ]
    }
   ],
   "source": [
    "# slice \"name\" and \"tweet_volume\"\n",
    "for trends in world_trends:\n",
    "    dict = {}\n",
    "    for trend in trends[\"trends\"]:\n",
    "        dict[trend[\"name\"]] = trend[\"tweet_volume\"]\n",
    "\n",
    "    print('Name Tweet Volume')\n",
    "    for x,y in dict.items():\n",
    "        print(x, y)"
   ]
  },
  {
   "cell_type": "markdown",
   "metadata": {
    "pycharm": {
     "name": "#%% md\n"
    }
   },
   "source": [
    "Da ich auch nach langem recherchieren und probieren keine Lösung gefunden habe, den Erstellungsort des Topics, abzurufen.\n",
    "Habe ich mich entschieden, das \"tweet_volume\" mit einer Random Zahl zwischen 1 und 100 zu ergänzen. Diese beiden Zahlen\n",
    "bilden die Daten für diese Thesis. Dieser Datensatz wird nun in eine csv Datei (Data.csv) gespeichert."
   ]
  },
  {
   "cell_type": "code",
   "execution_count": 137,
   "metadata": {
    "pycharm": {
     "name": "#%%\n"
    }
   },
   "outputs": [],
   "source": [
    "import csv\n",
    "import random\n",
    "\n",
    "# trends in CSV File speichern\n",
    "with open('Data.csv', 'w') as csv_file:\n",
    "    fieldnames = ['name', 'tweet_volume', 'nummer']\n",
    "    csv_writer = csv.DictWriter(csv_file, fieldnames=fieldnames)\n",
    "    csv_writer.writeheader()\n",
    "\n",
    "    # create a random number between 1-100\n",
    "    for x,y in dict.items():\n",
    "        i = random.randint(1, 100)\n",
    "        csv_writer.writerow({'name': x, 'tweet_volume': y, 'nummer': i})"
   ]
  },
  {
   "cell_type": "markdown",
   "metadata": {
    "pycharm": {
     "name": "#%% md\n"
    }
   },
   "source": [
    "Die Daten sind in die drei Spalten \"name\", \"tweet_volume\" und \"nummer\" gegliedert."
   ]
  },
  {
   "cell_type": "code",
   "execution_count": 164,
   "metadata": {
    "pycharm": {
     "name": "#%%\n"
    }
   },
   "outputs": [
    {
     "data": {
      "text/html": [
       "<div>\n",
       "<style scoped>\n",
       "    .dataframe tbody tr th:only-of-type {\n",
       "        vertical-align: middle;\n",
       "    }\n",
       "\n",
       "    .dataframe tbody tr th {\n",
       "        vertical-align: top;\n",
       "    }\n",
       "\n",
       "    .dataframe thead th {\n",
       "        text-align: right;\n",
       "    }\n",
       "</style>\n",
       "<table border=\"1\" class=\"dataframe\">\n",
       "  <thead>\n",
       "    <tr style=\"text-align: right;\">\n",
       "      <th></th>\n",
       "      <th>name</th>\n",
       "      <th>tweet_volume</th>\n",
       "      <th>nummer</th>\n",
       "    </tr>\n",
       "  </thead>\n",
       "  <tbody>\n",
       "    <tr>\n",
       "      <th>0</th>\n",
       "      <td>Donald</td>\n",
       "      <td>1539124</td>\n",
       "      <td>9</td>\n",
       "    </tr>\n",
       "    <tr>\n",
       "      <th>1</th>\n",
       "      <td>J'avais</td>\n",
       "      <td>35188</td>\n",
       "      <td>35</td>\n",
       "    </tr>\n",
       "    <tr>\n",
       "      <th>2</th>\n",
       "      <td>WhatsApp</td>\n",
       "      <td>561474</td>\n",
       "      <td>53</td>\n",
       "    </tr>\n",
       "    <tr>\n",
       "      <th>3</th>\n",
       "      <td>Spotify</td>\n",
       "      <td>733882</td>\n",
       "      <td>58</td>\n",
       "    </tr>\n",
       "    <tr>\n",
       "      <th>4</th>\n",
       "      <td>#Adelboden</td>\n",
       "      <td>1</td>\n",
       "      <td>70</td>\n",
       "    </tr>\n",
       "  </tbody>\n",
       "</table>\n",
       "</div>"
      ],
      "text/plain": [
       "         name  tweet_volume  nummer\n",
       "0      Donald       1539124       9\n",
       "1     J'avais         35188      35\n",
       "2    WhatsApp        561474      53\n",
       "3     Spotify        733882      58\n",
       "4  #Adelboden             1      70"
      ]
     },
     "execution_count": 164,
     "metadata": {},
     "output_type": "execute_result"
    }
   ],
   "source": [
    "import pandas as pd\n",
    "\n",
    "# show data from csv file\n",
    "df = pd.read_csv(\"Data.csv\")\n",
    "df.head()"
   ]
  },
  {
   "cell_type": "markdown",
   "metadata": {
    "pycharm": {
     "name": "#%% md\n"
    }
   },
   "source": [
    "## K-Means Algorithms\n",
    "\n",
    "Die Daten können nun in einem Diagramm ausgegeben werden."
   ]
  },
  {
   "cell_type": "code",
   "execution_count": 167,
   "metadata": {
    "pycharm": {
     "name": "#%%\n"
    }
   },
   "outputs": [
    {
     "data": {
      "text/plain": [
       "Text(0, 0.5, 'Nummer')"
      ]
     },
     "execution_count": 167,
     "metadata": {},
     "output_type": "execute_result"
    },
    {
     "data": {
      "image/png": "[encoded data removed]",
      "text/plain": [
       "<Figure size 432x288 with 1 Axes>"
      ]
     },
     "metadata": {
      "needs_background": "light"
     },
     "output_type": "display_data"
    }
   ],
   "source": [
    "from matplotlib import pyplot as plt\n",
    "%matplotlib inline\n",
    "\n",
    "plt.scatter(df['tweet_volume'],df['nummer'], color='orange')\n",
    "plt.xlabel('Tweet Volume')\n",
    "plt.ylabel('Nummer')"
   ]
  },
  {
   "cell_type": "markdown",
   "metadata": {
    "pycharm": {
     "name": "#%% md\n"
    }
   },
   "source": [
    "Nun wird der K-Means Algorithmus auf dem Datensatz angewendet. Zu Beginn wurden zwei Cluster gewählt. Der Algorithmus\n",
    "teilt nun die Daten auf die zwei Cluster 0 und 1 auf. Die Aufteilung ist auf der Tabelle ersichtlich."
   ]
  },
  {
   "cell_type": "code",
   "execution_count": 205,
   "metadata": {
    "pycharm": {
     "name": "#%%\n"
    }
   },
   "outputs": [
    {
     "data": {
      "text/html": [
       "<div>\n",
       "<style scoped>\n",
       "    .dataframe tbody tr th:only-of-type {\n",
       "        vertical-align: middle;\n",
       "    }\n",
       "\n",
       "    .dataframe tbody tr th {\n",
       "        vertical-align: top;\n",
       "    }\n",
       "\n",
       "    .dataframe thead th {\n",
       "        text-align: right;\n",
       "    }\n",
       "</style>\n",
       "<table border=\"1\" class=\"dataframe\">\n",
       "  <thead>\n",
       "    <tr style=\"text-align: right;\">\n",
       "      <th></th>\n",
       "      <th>name</th>\n",
       "      <th>tweet_volume</th>\n",
       "      <th>nummer</th>\n",
       "      <th>cluster</th>\n",
       "    </tr>\n",
       "  </thead>\n",
       "  <tbody>\n",
       "    <tr>\n",
       "      <th>0</th>\n",
       "      <td>Donald</td>\n",
       "      <td>1539124</td>\n",
       "      <td>9</td>\n",
       "      <td>1</td>\n",
       "    </tr>\n",
       "    <tr>\n",
       "      <th>1</th>\n",
       "      <td>J'avais</td>\n",
       "      <td>35188</td>\n",
       "      <td>35</td>\n",
       "      <td>0</td>\n",
       "    </tr>\n",
       "    <tr>\n",
       "      <th>2</th>\n",
       "      <td>WhatsApp</td>\n",
       "      <td>561474</td>\n",
       "      <td>53</td>\n",
       "      <td>1</td>\n",
       "    </tr>\n",
       "    <tr>\n",
       "      <th>3</th>\n",
       "      <td>Spotify</td>\n",
       "      <td>733882</td>\n",
       "      <td>58</td>\n",
       "      <td>1</td>\n",
       "    </tr>\n",
       "    <tr>\n",
       "      <th>4</th>\n",
       "      <td>#Adelboden</td>\n",
       "      <td>1</td>\n",
       "      <td>70</td>\n",
       "      <td>0</td>\n",
       "    </tr>\n",
       "  </tbody>\n",
       "</table>\n",
       "</div>"
      ],
      "text/plain": [
       "         name  tweet_volume  nummer  cluster\n",
       "0      Donald       1539124       9        1\n",
       "1     J'avais         35188      35        0\n",
       "2    WhatsApp        561474      53        1\n",
       "3     Spotify        733882      58        1\n",
       "4  #Adelboden             1      70        0"
      ]
     },
     "execution_count": 205,
     "metadata": {},
     "output_type": "execute_result"
    }
   ],
   "source": [
    "from sklearn.cluster import KMeans\n",
    "\n",
    "km = KMeans(n_clusters=2)\n",
    "y_predicted = km.fit_predict(df[['tweet_volume', 'nummer']])\n",
    "\n",
    "df['cluster'] = y_predicted\n",
    "df.head()"
   ]
  },
  {
   "cell_type": "markdown",
   "metadata": {
    "pycharm": {
     "name": "#%% md\n"
    }
   },
   "source": [
    "Anhang der Daten und der Aufteilung durch den K-Means Algorithmus, werden die Daten ausgegeben. Die orangen Punkte\n",
    "beziehen sich auf die Daten des ersten Clusters, die grünen Punkte auf die Daten des zweiten Clusters."
   ]
  },
  {
   "cell_type": "code",
   "execution_count": 206,
   "metadata": {
    "pycharm": {
     "name": "#%%\n"
    }
   },
   "outputs": [
    {
     "name": "stderr",
     "output_type": "stream",
     "text": [
      "No handles with labels found to put in legend.\n"
     ]
    },
    {
     "data": {
      "text/plain": [
       "<matplotlib.legend.Legend at 0x7fa7598a3eb0>"
      ]
     },
     "execution_count": 206,
     "metadata": {},
     "output_type": "execute_result"
    },
    {
     "data": {
      "image/png": "[encoded data removed]",
      "text/plain": [
       "<Figure size 432x288 with 1 Axes>"
      ]
     },
     "metadata": {
      "needs_background": "light"
     },
     "output_type": "display_data"
    }
   ],
   "source": [
    "df1 = df[df.cluster == 0]\n",
    "df2 = df[df.cluster == 1]\n",
    "\n",
    "plt.scatter(df1.tweet_volume, df1['nummer'], color='orange')\n",
    "plt.scatter(df2.tweet_volume, df2['nummer'], color='cyan')\n",
    "\n",
    "plt.xlabel('Tweet Volume')\n",
    "plt.ylabel('Nummer')\n",
    "plt.legend()"
   ]
  },
  {
   "cell_type": "markdown",
   "metadata": {
    "pycharm": {
     "name": "#%% md\n"
    }
   },
   "source": [
    "## Centroiden\n",
    "\n",
    "Nun werden die Centroiden (Mittelpunkte) der zwei Cluster berechnet und im Diagramm eingefügt. Das Array enthält die zwei\n",
    "Koordinaten der Centroiden."
   ]
  },
  {
   "cell_type": "code",
   "execution_count": 207,
   "metadata": {
    "pycharm": {
     "name": "#%%\n"
    }
   },
   "outputs": [
    {
     "data": {
      "text/plain": [
       "array([[2.56971522e+04, 5.14782609e+01],\n",
       "       [8.35747000e+05, 5.30000000e+01]])"
      ]
     },
     "execution_count": 207,
     "metadata": {},
     "output_type": "execute_result"
    }
   ],
   "source": [
    "km.cluster_centers_"
   ]
  },
  {
   "cell_type": "code",
   "execution_count": 208,
   "metadata": {
    "pycharm": {
     "name": "#%%\n"
    }
   },
   "outputs": [
    {
     "data": {
      "text/plain": [
       "<matplotlib.legend.Legend at 0x7fa7595712b0>"
      ]
     },
     "execution_count": 208,
     "metadata": {},
     "output_type": "execute_result"
    },
    {
     "data": {
      "image/png": "[encoded data removed]",
      "text/plain": [
       "<Figure size 432x288 with 1 Axes>"
      ]
     },
     "metadata": {
      "needs_background": "light"
     },
     "output_type": "display_data"
    }
   ],
   "source": [
    "df1 = df[df.cluster == 0]\n",
    "df2 = df[df.cluster == 1]\n",
    "\n",
    "plt.scatter(df1.tweet_volume, df1['nummer'], color='orange')\n",
    "plt.scatter(df2.tweet_volume, df2['nummer'], color='cyan')\n",
    "\n",
    "plt.scatter(km.cluster_centers_[:,0],\n",
    "            km.cluster_centers_[:,1],\n",
    "            color='Black',\n",
    "            marker='*',\n",
    "            label='centroid')\n",
    "\n",
    "plt.xlabel('Nummer')\n",
    "plt.ylabel('Twitter Value')\n",
    "plt.legend()"
   ]
  },
  {
   "cell_type": "markdown",
   "metadata": {
    "pycharm": {
     "name": "#%% md\n"
    }
   },
   "source": [
    "Im nächsten Schritt werden nun die Punkte zu den Centroiden optimiert."
   ]
  },
  {
   "cell_type": "code",
   "execution_count": 209,
   "metadata": {
    "pycharm": {
     "name": "#%%\n"
    }
   },
   "outputs": [],
   "source": [
    "import numpy as np\n",
    "\n",
    "def plot_clusters(data_arg,li_cluster_indices,colors,centroids):\n",
    "    data_clusters=[]\n",
    "    for j in range(0,len(li_cluster_indices)):\n",
    "        data_clusters.append([])\n",
    "    data_centroid=[]\n",
    "\n",
    "    for i in range(0,len(data_arg)):\n",
    "        for j in range(0,len(li_cluster_indices)):\n",
    "            cluster_indices=li_cluster_indices[j]\n",
    "            if i in cluster_indices:\n",
    "                data_clusters[j].append(data_arg[i])\n",
    "\n",
    "    for cluster, color in zip(data_clusters,colors):\n",
    "        x,y=np.array(cluster).T\n",
    "        plt.scatter(x,y,color=color)\n",
    "    x,y=np.array(centroids).T\n",
    "    plt.scatter(x,y,color=\"black\", marker='*', label='centroid')\n",
    "    plt.show()\n",
    "\n",
    "def euclidean_distance2(pt1, pt2):\n",
    "    return np.linalg.norm(pt1 - pt2)"
   ]
  },
  {
   "cell_type": "code",
   "execution_count": 210,
   "metadata": {
    "pycharm": {
     "name": "#%%\n"
    }
   },
   "outputs": [],
   "source": [
    "data= [[1539124,9],[35188,35],[561474,53],[733882,58],[1,70],[1,2],[1,82],[1,80],[1,55],[1,78],[1,75],[1,38],[1,84],\n",
    "       [1,52],[1,65],[508508,92],[1,15],[1,59],[1,10],[1,61],[1,24],[1,74],[1,32],[1,59],[1,14],[1,47],[1,69],[161980,74],\n",
    "       [124661,81],[1,60],[1,8],[1,70],[1,11],[1,31],[87242,78],[1,29],[330809,61],[1,91],[1,82],[1,7],[1,35],[19274,12],\n",
    "       [1,90],[157385,75],[127209,48],[30203,16],[1,85],[50709,24],[57374,71],[1,49]\n",
    "       ]"
   ]
  },
  {
   "cell_type": "code",
   "execution_count": 201,
   "metadata": {
    "pycharm": {
     "name": "#%%\n"
    }
   },
   "outputs": [
    {
     "data": {
      "image/png": "[encoded data removed]",
      "text/plain": [
       "<Figure size 432x288 with 1 Axes>"
      ]
     },
     "metadata": {
      "needs_background": "light"
     },
     "output_type": "display_data"
    },
    {
     "name": "stdout",
     "output_type": "stream",
     "text": [
      "adjust clusters\n",
      "adjust centroids\n",
      "adjust clusters\n",
      "adjust centroids\n",
      "adjust clusters\n",
      "adjust centroids\n",
      "adjust clusters\n",
      "adjust centroids\n",
      "convergence!\n"
     ]
    },
    {
     "data": {
      "image/png": "[encoded data removed]",
      "text/plain": [
       "<Figure size 432x288 with 1 Axes>"
      ]
     },
     "metadata": {
      "needs_background": "light"
     },
     "output_type": "display_data"
    },
    {
     "data": {
      "image/png": "[encoded data removed]",
      "text/plain": [
       "<Figure size 432x288 with 1 Axes>"
      ]
     },
     "metadata": {
      "needs_background": "light"
     },
     "output_type": "display_data"
    },
    {
     "data": {
      "image/png": "[encoded data removed]",
      "text/plain": [
       "<Figure size 432x288 with 1 Axes>"
      ]
     },
     "metadata": {
      "needs_background": "light"
     },
     "output_type": "display_data"
    },
    {
     "data": {
      "image/png": "[encoded data removed]",
      "text/plain": [
       "<Figure size 432x288 with 1 Axes>"
      ]
     },
     "metadata": {
      "needs_background": "light"
     },
     "output_type": "display_data"
    },
    {
     "data": {
      "image/png": "[encoded data removed]",
      "text/plain": [
       "<Figure size 432x288 with 1 Axes>"
      ]
     },
     "metadata": {
      "needs_background": "light"
     },
     "output_type": "display_data"
    },
    {
     "data": {
      "image/png": "[encoded data removed]",
      "text/plain": [
       "<Figure size 432x288 with 1 Axes>"
      ]
     },
     "metadata": {
      "needs_background": "light"
     },
     "output_type": "display_data"
    },
    {
     "data": {
      "image/png": "[encoded data removed]",
      "text/plain": [
       "<Figure size 432x288 with 1 Axes>"
      ]
     },
     "metadata": {
      "needs_background": "light"
     },
     "output_type": "display_data"
    },
    {
     "data": {
      "image/png": "[encoded data removed]",
      "text/plain": [
       "<Figure size 432x288 with 1 Axes>"
      ]
     },
     "metadata": {
      "needs_background": "light"
     },
     "output_type": "display_data"
    }
   ],
   "source": [
    "random.shuffle(data)\n",
    "c1=np.array(data[0])\n",
    "c2=np.array(data[1])\n",
    "rest=[]\n",
    "for i in range(2,len(data)):\n",
    "    rest.append(i)\n",
    "plot_clusters(data,[rest],[\"orange\"],[c1,c2])\n",
    "\n",
    "cluster1=[]\n",
    "cluster2=[]\n",
    "centroid_index1=0\n",
    "centroid_index2=1\n",
    "oldc1=c1\n",
    "oldc2=c2\n",
    "for k in range(0,10):\n",
    "        l=0\n",
    "        cluster1=[]\n",
    "        cluster2=[]\n",
    "        for point in data:\n",
    "            distance_c1=euclidean_distance2(np.array(point),c1)\n",
    "            distance_c2=euclidean_distance2(np.array(point),c2)\n",
    "            if distance_c1<distance_c2:\n",
    "                cluster1.append(l)\n",
    "            else:\n",
    "                cluster2.append(l)\n",
    "            l=l+1\n",
    "        print (\"adjust clusters\")\n",
    "        plot_clusters(data,[cluster1,cluster2],[\"orange\",\"cyan\"],[c1,c2,])\n",
    "\n",
    "        c1=np.array([0.0])\n",
    "        for i in cluster1:\n",
    "            c1=c1+np.array(data[i])\n",
    "        c1=c1/len(cluster1)\n",
    "\n",
    "        c2=np.array([0.0])\n",
    "        for i in cluster2:\n",
    "            c2=c2+np.array(data[i])\n",
    "        c2=c2/len(cluster2)\n",
    "\n",
    "        print (\"adjust centroids\")\n",
    "        plot_clusters(data,[cluster1,cluster2],[\"orange\",\"cyan\"],[c1,c2])\n",
    "\n",
    "        if np.linalg.norm(c1-oldc1)+np.linalg.norm(c2-oldc2)<0.00001:\n",
    "            print (\"convergence!\")\n",
    "            break\n",
    "        oldc1=c1\n",
    "        oldc2=c2"
   ]
  },
  {
   "cell_type": "markdown",
   "metadata": {},
   "source": [
    "## Ellbow Methode\n",
    "\n",
    "Wir erkennen auf dem Diagramm, das die zwei Cluster nicht optimal gewählt wurden. Der Punkt unten rechts passt nicht\n",
    "recht zu den zwei Centroiden. Dies kann rechnerisch überprüft werden. Dafür wird die Ellbow-Methode angewandt.\n",
    "Aus der Berechnung ist ersichtlich das drei Cluster gewählt werden sollen. Dies untermauert die Vermutung."
   ]
  },
  {
   "cell_type": "code",
   "execution_count": 211,
   "metadata": {
    "pycharm": {
     "name": "#%%\n"
    }
   },
   "outputs": [
    {
     "data": {
      "text/plain": [
       "[<matplotlib.lines.Line2D at 0x7fa759b8e160>]"
      ]
     },
     "execution_count": 211,
     "metadata": {},
     "output_type": "execute_result"
    },
    {
     "data": {
      "image/png": "[encoded data removed]",
      "text/plain": [
       "<Figure size 432x288 with 1 Axes>"
      ]
     },
     "metadata": {
      "needs_background": "light"
     },
     "output_type": "display_data"
    }
   ],
   "source": [
    "# ellbow plot method\n",
    "k_rng = range(1,10)\n",
    "sse = []\n",
    "for k in k_rng:\n",
    "    km = KMeans(n_clusters=k)\n",
    "    km.fit(df[['tweet_volume', 'nummer']])\n",
    "    sse.append(km.inertia_)\n",
    "\n",
    "plt.xlabel('K')\n",
    "plt.ylabel('Sum of squared error')\n",
    "plt.plot(k_rng, sse)"
   ]
  },
  {
   "cell_type": "markdown",
   "metadata": {},
   "source": [
    "Die Ellbow-Methode hat ergeben das sich drei Cluster besser eignen als zwei, daher wiederholen wir den K-Means Algorithmus\n",
    "für drei Cluster und geben das Resultat aus."
   ]
  },
  {
   "cell_type": "code",
   "execution_count": 219,
   "metadata": {
    "pycharm": {
     "name": "#%%\n"
    }
   },
   "outputs": [
    {
     "data": {
      "text/plain": [
       "<matplotlib.legend.Legend at 0x7fa75985dca0>"
      ]
     },
     "execution_count": 219,
     "metadata": {},
     "output_type": "execute_result"
    },
    {
     "data": {
      "image/png": "[encoded data removed]",
      "text/plain": [
       "<Figure size 432x288 with 1 Axes>"
      ]
     },
     "metadata": {
      "needs_background": "light"
     },
     "output_type": "display_data"
    }
   ],
   "source": [
    "df1 = df[df.cluster == 0]\n",
    "df2 = df[df.cluster == 1]\n",
    "df3 = df[df.cluster == 2]\n",
    "\n",
    "plt.scatter(df1.tweet_volume, df1['nummer'], color='orange')\n",
    "plt.scatter(df2.tweet_volume, df2['nummer'], color='green')\n",
    "plt.scatter(df3.tweet_volume, df3['nummer'], color='cyan')\n",
    "\n",
    "plt.scatter(km.cluster_centers_[:,0],\n",
    "            km.cluster_centers_[:,1],\n",
    "            color='Black',\n",
    "            marker='*',\n",
    "            label='centroid')\n",
    "\n",
    "plt.xlabel('Nummer')\n",
    "plt.ylabel('Twitter Value')\n",
    "plt.legend()"
   ]
  },
  {
   "cell_type": "markdown",
   "metadata": {
    "pycharm": {
     "name": "#%% md\n"
    }
   },
   "source": [
    "Das Diagramm zeigt nun eine sinnvolle Cluster aufteilung mit drei Centroiden."
   ]
  },
  {
   "cell_type": "markdown",
   "metadata": {},
   "source": [
    "## Findings\n",
    "\n",
    "Der wichtigste Punkt der beachtet werden muss, sind meines erachtens, die Daten. Sie müssen in geeigneter Form und in\n",
    "passendem Format vorhanden sein. Ansonsten müssen diese zuerst angepasst werden was aufwendig sein kann.\n",
    "Zum Beispiel sind bei den weltweite trendigen Topics auch Zeichen ausserhalb des UTF-8 Zeichensatzes enthalten.\n",
    "Ist der Datensatz vollständig und in passendem Format vorhanden, kann mit der Berechnung begonnen werden.\n",
    "Die Berechnung empfang ich als weniger aufwendiger Punkt."
   ]
  },
  {
   "cell_type": "markdown",
   "metadata": {
    "pycharm": {
     "name": "#%% md\n"
    }
   },
   "source": [
    "---\n",
    "## Quellenverzeichnis\n",
    "\n",
    "### Literaturverzeichnis\n",
    "\n",
    "[1] Russell, Matthew A. / Mikhail Klassen (2019): Mining the Social Web: Data Mining Facebook, Twitter, LinkedIn, Instagram,\n",
    "GitHub, and More, 3. Aufl., Sebastopol, USA, California: O’Reilly Media.\n"
   ]
  }
 ],
 "metadata": {
  "kernelspec": {
   "name": "pycharm-bcd54842",
   "language": "python",
   "display_name": "PyCharm (data-science)"
  },
  "language_info": {
   "codemirror_mode": {
    "name": "ipython",
    "version": 3
   },
   "file_extension": ".py",
   "mimetype": "text/x-python",
   "name": "python",
   "nbconvert_exporter": "python",
   "pygments_lexer": "ipython3",
   "version": "3.7.3"
  }
 },
 "nbformat": 4,
 "nbformat_minor": 1
}